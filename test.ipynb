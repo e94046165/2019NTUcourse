{
 "cells": [
  {
   "cell_type": "code",
   "execution_count": 8,
   "metadata": {},
   "outputs": [
    {
     "data": {
      "text/plain": [
       "64.28571428571429"
      ]
     },
     "execution_count": 8,
     "metadata": {},
     "output_type": "execute_result"
    }
   ],
   "source": [
    "import numpy as np\n",
    "A  = [19, 22, 24, 26, 22, 24, 23]\n",
    "def RSI(pastPriceVec, windowSize):\n",
    "    up_down = np.zeros(windowSize)\n",
    "    for i in range(1,windowSize):\n",
    "        up_down[i] = pastPriceVec[-windowSize + i] - pastPriceVec[-windowSize + i - 1]\n",
    "    rsi = up = down = 0\n",
    "    for i in up_down:\n",
    "        if i > 0:\n",
    "            up += i\n",
    "        else:\n",
    "            down -= i\n",
    "    rsi = up/(up + down) * 100\n",
    "    return rsi\n",
    "RSI(A, 7)"
   ]
  }
 ],
 "metadata": {
  "kernelspec": {
   "display_name": "Python 3",
   "language": "python",
   "name": "python3"
  },
  "language_info": {
   "codemirror_mode": {
    "name": "ipython",
    "version": 3
   },
   "file_extension": ".py",
   "mimetype": "text/x-python",
   "name": "python",
   "nbconvert_exporter": "python",
   "pygments_lexer": "ipython3",
   "version": "3.7.1"
  }
 },
 "nbformat": 4,
 "nbformat_minor": 2
}
