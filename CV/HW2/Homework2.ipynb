{
 "cells": [
  {
   "cell_type": "code",
   "execution_count": 5,
   "metadata": {},
   "outputs": [
    {
     "data": {
      "image/png": "[encoded data removed]",
      "text/plain": [
       "<Figure size 432x288 with 1 Axes>"
      ]
     },
     "metadata": {
      "needs_background": "light"
     },
     "output_type": "display_data"
    }
   ],
   "source": [
    "import cv2\n",
    "import numpy as np\n",
    "from matplotlib import pyplot as plt\n",
    "img = cv2.imread('lena.bmp')\n",
    "#用 pyplot 使 Img 顯示在 jupyter notebook \n",
    "def imshow(img):\n",
    "    plt.imshow(img[:,:,::-1])#因為 plt 與 cv 一個是 RGB 另一個是 BGR\n",
    "\n",
    "\n",
    "#2-1 change into binary image, threshold = 128 \n",
    "\n",
    "img2 = img.copy()\n",
    "for i in img2:\n",
    "    for j in i:\n",
    "        if j[0] >= 128:\n",
    "            j[0] = j[1] = j[2] = 255\n",
    "        else:\n",
    "            j *= 0\n",
    "imshow(img2)"
   ]
  },
  {
   "cell_type": "code",
   "execution_count": 2,
   "metadata": {},
   "outputs": [
    {
     "data": {
      "image/png": "[encoded data removed]",
      "text/plain": [
       "<Figure size 432x288 with 1 Axes>"
      ]
     },
     "metadata": {
      "needs_background": "light"
     },
     "output_type": "display_data"
    }
   ],
   "source": [
    "#2-2 histogram\n",
    "histogram = [0]*256\n",
    "for i in img:\n",
    "    for j in i:\n",
    "        histogram[j[0]] += 1\n",
    "plt.bar(range(len(histogram)) , histogram) \n",
    "plt.xlabel('Colors')\n",
    "plt.ylabel('Pixel')\n",
    "plt.title('histogram')\n",
    "plt.show()"
   ]
  },
  {
   "cell_type": "code",
   "execution_count": 3,
   "metadata": {},
   "outputs": [],
   "source": [
    "label = np.zeros((512,512))\n",
    "CC = 1\n",
    "if img2[0][0][0] == 255:\n",
    "    label[0][0] = CC\n",
    "    CC += 1\n",
    "for j in range(1,len(img2[0])):\n",
    "    if img2[0][j][0] == 255:\n",
    "        if label[0][j-1] != 0:\n",
    "            label[0][j] = label[0][j-1]\n",
    "        else:\n",
    "            label[0][j] = CC\n",
    "            CC += 1\n",
    "for i in range(1,512):\n",
    "    for j in range(512):\n",
    "        if img2[i][j][0] == 255:\n",
    "            if j == 0:\n",
    "                if label[i-1][j] != 0:\n",
    "                    label[i][j] = label[i-1][j]\n",
    "            else:\n",
    "                if label[i-1][j] != 0 and label[i][j-1] != 0:\n",
    "                    label[i][j] = min(label[i-1][j], label[i][j-1])\n",
    "                    if label[i-1][j] != label[i][j-1]:\n",
    "                        for k in range(i+1):\n",
    "                            for l in range(512):\n",
    "                                if label[k][l] == max(label[i-1][j], label[i][j-1]):\n",
    "                                    label[k][l] = label[i][j]\n",
    "                elif label[i-1][j] != 0:\n",
    "                    label[i][j] = label[i-1][j]\n",
    "                elif label[i][j-1] != 0:\n",
    "                    label[i][j] = label[i][j-1]\n",
    "                else:\n",
    "                    label[i][j] = CC\n",
    "                    CC += 1"
   ]
  },
  {
   "cell_type": "code",
   "execution_count": 4,
   "metadata": {},
   "outputs": [
    {
     "data": {
      "image/png": "[encoded data removed]",
      "text/plain": [
       "<Figure size 432x288 with 1 Axes>"
      ]
     },
     "metadata": {
      "needs_background": "light"
     },
     "output_type": "display_data"
    }
   ],
   "source": [
    "count = np.zeros(CC)\n",
    "for i in range(512):\n",
    "    for j in range(512):\n",
    "        count[int(label[i][j])] += 1\n",
    "count_big = []\n",
    "for i in range(1,CC):\n",
    "    if count[i] >= 500:\n",
    "        count_big.append(i)\n",
    "#to give different component different color randomly\n",
    "color = {}\n",
    "import random\n",
    "for i in count_big:\n",
    "    r = random.randint(0,255)\n",
    "    g = random.randint(0,255)\n",
    "    b = random.randint(0,255)\n",
    "    color[i] = [r,g,b]\n",
    "img5 = img2.copy()\n",
    "for c in count_big:\n",
    "    #to find the index of each rectangle tmp = [minx, miny, maxx, maxy]\n",
    "    tmp = [512,512,0,0]\n",
    "    #find where to put the +\n",
    "    middle = (0,0)\n",
    "    for i in range(512):\n",
    "        for j in range(512):\n",
    "            if label[i][j] == c:\n",
    "                middle = (middle[0]+i, middle[1]+j)\n",
    "                if i < tmp[0]:\n",
    "                    tmp[0] = i\n",
    "                if j < tmp[1]:\n",
    "                    tmp[1] = j\n",
    "                if i > tmp[2]:\n",
    "                    tmp[2] = i\n",
    "                if j > tmp[3]:\n",
    "                    tmp[3] = j\n",
    "\n",
    "    middle = (int(middle[1]/count[c]), int(middle[0]/count[c]))\n",
    "    cv2.circle(img5, middle, 10, (0,0,255), -1)\n",
    "    cv2.rectangle(img5, (tmp[1],tmp[0]), (tmp[3],tmp[2]),color[c], 10)\n",
    "imshow(img5)"
   ]
  },
  {
   "cell_type": "code",
   "execution_count": null,
   "metadata": {},
   "outputs": [],
   "source": []
  }
 ],
 "metadata": {
  "kernelspec": {
   "display_name": "Python 3",
   "language": "python",
   "name": "python3"
  },
  "language_info": {
   "codemirror_mode": {
    "name": "ipython",
    "version": 3
   },
   "file_extension": ".py",
   "mimetype": "text/x-python",
   "name": "python",
   "nbconvert_exporter": "python",
   "pygments_lexer": "ipython3",
   "version": "3.6.8"
  }
 },
 "nbformat": 4,
 "nbformat_minor": 2
}
