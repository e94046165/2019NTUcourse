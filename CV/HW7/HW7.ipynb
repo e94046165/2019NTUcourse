{
 "cells": [
  {
   "cell_type": "code",
   "execution_count": 1,
   "metadata": {},
   "outputs": [],
   "source": [
    "import cv2\n",
    "import numpy as np\n",
    "from matplotlib import pyplot as plt\n",
    "img = cv2.imread('lena.bmp')\n",
    "def imshow(img):\n",
    "    plt.imshow(img, cmap='Greys_r',vmin = 0, vmax = 255)\n",
    "    plt.show()\n",
    "#change into binary image, threshold = 128 \n",
    "img2 = np.zeros([len(img),len(img[0])],dtype=np.uint8)\n",
    "for i in range(len(img)):\n",
    "    for j in range(len(img[0])):\n",
    "        if img[i][j][0] >= 128:\n",
    "            img2[i][j] = 255\n",
    "        else:\n",
    "            img2[i][j] = 0"
   ]
  },
  {
   "cell_type": "code",
   "execution_count": 2,
   "metadata": {},
   "outputs": [],
   "source": [
    "# Downsampling Lena from 512x512 to 64x64\n",
    "img_64 = np.zeros([64,64],dtype=np.uint8)\n",
    "for i in range(len(img_64)):\n",
    "    for j in range(len(img_64)):\n",
    "        img_64[i][j] = img2[i*8][j*8]\n",
    "#imshow(img_64)"
   ]
  },
  {
   "cell_type": "code",
   "execution_count": 3,
   "metadata": {},
   "outputs": [],
   "source": [
    "def h(b, c, d, e):\n",
    "    if b == c:\n",
    "        if d != b or e != b:\n",
    "            return \"q\" \n",
    "        else:\n",
    "            return \"r\"\n",
    "    else:\n",
    "        return \"s\"\n",
    "def f(a1, a2, a3, a4):\n",
    "    if a1 == a2 and a2 == a3 and a3 == a4 and a4 == \"r\":\n",
    "        return 5\n",
    "    else:\n",
    "        a = 0\n",
    "        for i in [a1, a2, a3, a4]:\n",
    "            if i == \"q\":\n",
    "                a += 1\n",
    "        return a   "
   ]
  },
  {
   "cell_type": "code",
   "execution_count": 4,
   "metadata": {},
   "outputs": [],
   "source": [
    "def yokoi(img):\n",
    "    label = np.zeros([len(img),len(img[0])],dtype=np.uint8)\n",
    "    for i in range(len(img)):\n",
    "        for j in range(len(img[0])):\n",
    "            if img[i][j] != 0:\n",
    "                a1 = a2 = a3 = a4 = \"s\"\n",
    "                b = img[i][j]\n",
    "                # a1\n",
    "                c = d = e = 0\n",
    "                if j != len(img[0]) - 1 and i != 0:\n",
    "                    c = img[i][j+1]\n",
    "                    d = e = img[i-1][j+1]\n",
    "                    e = img[i-1][j]\n",
    "                elif i != 0:\n",
    "                    e = img[i-1][j]\n",
    "                elif j != len(img[0]) - 1:\n",
    "                    c = img[i][j+1]\n",
    "                a1 = h(b, c, d, e)\n",
    "                #a2\n",
    "                c = d = e = 0\n",
    "                if j != 0 and i != 0:\n",
    "                    c = img[i-1][j]\n",
    "                    d = e = img[i-1][j-1]\n",
    "                    e = img[i][j-1]\n",
    "                elif i != 0:\n",
    "                    c = img[i-1][j]\n",
    "                elif j != 0:\n",
    "                    e = img[i][j-1]  \n",
    "                a2 = h(b, c, d, e)\n",
    "                #a3\n",
    "                c = d = e = 0\n",
    "                if j != 0 and i != len(img) - 1:\n",
    "                    c = img[i][j-1]\n",
    "                    d = e = img[i+1][j-1]\n",
    "                    e = img[i+1][j]\n",
    "                elif i != len(img) - 1:\n",
    "                    e = img[i+1][j]\n",
    "                elif j != 0:\n",
    "                    c = img[i][j-1]  \n",
    "                a3 = h(b, c, d, e)\n",
    "                #a4\n",
    "                c = d = e = 0\n",
    "                if j != len(img[0]) - 1 and i != len(img) - 1:\n",
    "                    c = img[i+1][j]\n",
    "                    d = e = img[i+1][j+1]\n",
    "                    e = img[i][j+1]\n",
    "                elif i != i != len(img) - 1:\n",
    "                    c = img[i+1][j]\n",
    "                elif j != len(img[0]) - 1:\n",
    "                    e = img[i][j+1]  \n",
    "                a4 = h(b, c, d, e)\n",
    "                label[i][j] = f(a1, a2, a3, a4)\n",
    "    return label"
   ]
  },
  {
   "cell_type": "code",
   "execution_count": 5,
   "metadata": {},
   "outputs": [],
   "source": [
    "def pairRelOp(img):\n",
    "    label = yokoi(img)\n",
    "    label_pair = np.zeros([len(label) ,len(label[0])], str)\n",
    "    for i in range(len(label)):\n",
    "        for j in range(len(label[0])):\n",
    "            if label[i][j] == 1:\n",
    "                if 0 < i and label[i-1][j] == 1:\n",
    "                    label_pair[i][j] = 'p'\n",
    "                elif i < len(label)-1 and label[i+1][j] == 1:\n",
    "                    label_pair[i][j] = 'p'\n",
    "                elif j < len(label[0])-1 and label[i][j+1] == 1:\n",
    "                    label_pair[i][j] = 'p'\n",
    "                elif 0 < j and label[i][j-1] == 1:\n",
    "                    label_pair[i][j] = 'p'\n",
    "                else:\n",
    "                    label_pair[i][j] = 'q'\n",
    "            else:\n",
    "                label_pair[i][j] = 'q'\n",
    "    return label_pair"
   ]
  },
  {
   "cell_type": "code",
   "execution_count": 6,
   "metadata": {},
   "outputs": [],
   "source": [
    "def conShrinkOp(img):\n",
    "    label = yokoi(img)\n",
    "    label_pair = pairRelOp(img)\n",
    "    for i in range(len(label_pair)):# from up to down\n",
    "        for j in range(len(label_pair[0])):# from left to right\n",
    "            if label_pair[i][j] == 'p':# check only if label_pair[i][j] == 'p'\n",
    "                if label[i][j] == 1:\n",
    "                    img[i][j] = 0 # if we remove a pixel in img, update the yokoi label\n",
    "                    label = yokoi(img)\n",
    "    return img"
   ]
  },
  {
   "cell_type": "code",
   "execution_count": 7,
   "metadata": {},
   "outputs": [
    {
     "data": {
      "image/png": "[encoded data removed]",
      "text/plain": [
       "<Figure size 432x288 with 1 Axes>"
      ]
     },
     "metadata": {
      "needs_background": "light"
     },
     "output_type": "display_data"
    }
   ],
   "source": [
    "img_thin = img_64.copy()\n",
    "imshow(img_64)"
   ]
  },
  {
   "cell_type": "code",
   "execution_count": 8,
   "metadata": {},
   "outputs": [
    {
     "data": {
      "image/png": "[encoded data removed]",
      "text/plain": [
       "<Figure size 432x288 with 1 Axes>"
      ]
     },
     "metadata": {
      "needs_background": "light"
     },
     "output_type": "display_data"
    }
   ],
   "source": [
    "img_thin = img_64.copy()\n",
    "tmp = 0\n",
    "def count0(array2D):\n",
    "    count = 0\n",
    "    for i in array2D:\n",
    "        for j in i:\n",
    "            if j == 0:\n",
    "                count += 1\n",
    "    return count\n",
    "while tmp != count0(img_thin):# loop stop when the img not change any more\n",
    "    tmp = count0(img_thin)\n",
    "    label_pair = pairRelOp(img_thin)\n",
    "    img_thin = conShrinkOp(img_thin)\n",
    "imshow(img_thin)"
   ]
  },
  {
   "cell_type": "code",
   "execution_count": 9,
   "metadata": {},
   "outputs": [
    {
     "data": {
      "text/plain": [
       "True"
      ]
     },
     "execution_count": 9,
     "metadata": {},
     "output_type": "execute_result"
    }
   ],
   "source": [
    "cv2.imwrite('img_thin.png', img_thin)"
   ]
  },
  {
   "cell_type": "code",
   "execution_count": null,
   "metadata": {},
   "outputs": [],
   "source": []
  }
 ],
 "metadata": {
  "kernelspec": {
   "display_name": "Python 3",
   "language": "python",
   "name": "python3"
  },
  "language_info": {
   "codemirror_mode": {
    "name": "ipython",
    "version": 3
   },
   "file_extension": ".py",
   "mimetype": "text/x-python",
   "name": "python",
   "nbconvert_exporter": "python",
   "pygments_lexer": "ipython3",
   "version": "3.6.8"
  }
 },
 "nbformat": 4,
 "nbformat_minor": 2
}
