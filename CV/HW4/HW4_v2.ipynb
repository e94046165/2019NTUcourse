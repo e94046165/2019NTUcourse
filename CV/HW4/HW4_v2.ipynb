{
 "cells": [
  {
   "cell_type": "code",
   "execution_count": 1,
   "metadata": {},
   "outputs": [
    {
     "data": {
      "text/plain": [
       "<Figure size 640x480 with 1 Axes>"
      ]
     },
     "metadata": {},
     "output_type": "display_data"
    }
   ],
   "source": [
    "# Use the octogonal 3-5-5-5-3 kernel.\n",
    "\n",
    "# Use use the \"L\" shaped kernel (same as the text book) to detect the upper-right corner for hit-and-miss transform.\n",
    "\n",
    "# Write programs which do gray scale morphological dilation, erosion, opening, and closing on a gray scale image.\n",
    "\n",
    "import cv2\n",
    "import numpy as np\n",
    "from matplotlib import pyplot as plt\n",
    "img = cv2.imread('lena.bmp', cv2.IMREAD_GRAYSCALE)\n",
    "#用 pyplot 使 Img 顯示在 jupyter notebook 中\n",
    "def imshow(img):\n",
    "    plt.imshow(img, cmap='Greys_r',vmin = 0, vmax = 255)\n",
    "    plt.show()\n",
    "#Binarize Lena with the threshold 128\n",
    "img2 = img.copy()\n",
    "for i in range(len(img)):\n",
    "    for j in range(len(img[0])):\n",
    "        if img2[i][j] >= 128:\n",
    "            img2[i][j] = 255\n",
    "        else:\n",
    "            img2[i][j] = 0\n",
    "imshow(img2)"
   ]
  },
  {
   "cell_type": "code",
   "execution_count": 2,
   "metadata": {},
   "outputs": [
    {
     "data": {
      "image/png": "[encoded data removed]",
      "text/plain": [
       "<Figure size 432x288 with 1 Axes>"
      ]
     },
     "metadata": {
      "needs_background": "light"
     },
     "output_type": "display_data"
    }
   ],
   "source": [
    "kernel = np.ones((5,5), np.uint8) \n",
    "kernel[0][0] = kernel[0][4] = kernel[4][0] = kernel[4][4] = 0\n",
    "\n",
    "def dilate(img, kernel):\n",
    "    img_dilation = np.zeros([len(img),len(img[0])],dtype=np.uint8)\n",
    "    for i in range(len(img)):\n",
    "        for j in range(len(img[0])):\n",
    "            if img[i][j] == 255:\n",
    "                for k in range(i-len(kernel)//2, i+len(kernel)//2+1):\n",
    "                    for l in range(j-len(kernel)//2, j+len(kernel)//2+1):\n",
    "                        if 0 <= k <= len(img)-1 and 0 <= l <= len(img[0])-1:\n",
    "                            if kernel[k - i + len(kernel)//2][l - j + len(kernel)//2] == 1:\n",
    "                                img_dilation[k][l] = 255\n",
    "    return img_dilation\n",
    "img_dilation = dilate(img2, kernel)\n",
    "imshow(img_dilation)"
   ]
  },
  {
   "cell_type": "code",
   "execution_count": 3,
   "metadata": {},
   "outputs": [
    {
     "name": "stdout",
     "output_type": "stream",
     "text": [
      "correct\n"
     ]
    }
   ],
   "source": [
    "if (img_dilation == cv2.dilate(img2, kernel)).all():\n",
    "    print(\"correct\")\n",
    "else:\n",
    "    print(\"Wrong\")"
   ]
  },
  {
   "cell_type": "code",
   "execution_count": 4,
   "metadata": {
    "scrolled": true
   },
   "outputs": [
    {
     "data": {
      "image/png": "[encoded data removed]",
      "text/plain": [
       "<Figure size 432x288 with 1 Axes>"
      ]
     },
     "metadata": {
      "needs_background": "light"
     },
     "output_type": "display_data"
    }
   ],
   "source": [
    "def erosion(img, kernel):\n",
    "    img_erosion = np.zeros([len(img),len(img[0])],dtype=np.uint8)\n",
    "    for i in range(len(img)):\n",
    "        for j in range(len(img[0])):\n",
    "            fit = 1\n",
    "            for k in range(i-len(kernel)//2, i+len(kernel)//2+1):\n",
    "                for l in range(j-len(kernel)//2, j+len(kernel)//2+1):\n",
    "                    if 0 <= k <= len(img)-1 and 0 <= l <= len(img[0])-1:\n",
    "                        if kernel[k - i + len(kernel)//2][l - j + len(kernel)//2] == 1 and img[k][l] != 255:\n",
    "                            fit = 0\n",
    "                    elif kernel[k - i + len(kernel)//2][l - j + len(kernel)//2] == 1:\n",
    "                        fit = 0\n",
    "            if fit == 1:\n",
    "                img_erosion[i][j] = 255\n",
    "            else:\n",
    "                img_erosion[i][j] = 0\n",
    "    return img_erosion\n",
    "img_erosion = erosion(img2, kernel)\n",
    "imshow(img_erosion)"
   ]
  },
  {
   "cell_type": "code",
   "execution_count": null,
   "metadata": {},
   "outputs": [
    {
     "name": "stdout",
     "output_type": "stream",
     "text": [
      "False\n",
      "1725\n"
     ]
    }
   ],
   "source": [
    "img_erosion_cv = cv2.erode(img2, kernel)\n",
    "if (img_erosion == img_erosion_cv).all():\n",
    "    print(\"correct!\")\n",
    "else:\n",
    "    print(\"False\")\n",
    "count = 0\n",
    "for i in range(512):\n",
    "    for j in range(512):\n",
    "        if not(img_erosion[i][j] == img_erosion_cv[i][j]).all():\n",
    "            count += 1\n",
    "print(count)"
   ]
  },
  {
   "cell_type": "code",
   "execution_count": null,
   "metadata": {},
   "outputs": [
    {
     "data": {
      "image/png": "[encoded data removed]",
      "text/plain": [
       "<Figure size 432x288 with 1 Axes>"
      ]
     },
     "metadata": {
      "needs_background": "light"
     },
     "output_type": "display_data"
    }
   ],
   "source": [
    "def opening(img, kernel):\n",
    "    img_opening = erosion(img, kernel)\n",
    "    img_opening = dilate(img_opening, kernel)\n",
    "    return img_opening\n",
    "img_opening = opening(img2, kernel)\n",
    "imshow(img_opening)"
   ]
  },
  {
   "cell_type": "code",
   "execution_count": null,
   "metadata": {},
   "outputs": [],
   "source": [
    "def closing(img, kernel):\n",
    "    img_closing = dilate(img, kernel)\n",
    "    img_closing = erosion(img_closing, kernel)\n",
    "    return img_closing\n",
    "img_closing = closing(img2, kernel)\n",
    "imshow(img_closing)"
   ]
  },
  {
   "cell_type": "code",
   "execution_count": null,
   "metadata": {},
   "outputs": [],
   "source": [
    "kernel_k = np.zeros((3,3), np.uint8)\n",
    "kernel_k[0][1] = kernel_k[0][2] = kernel_k[1][2] = 1\n",
    "print(kernel_k)\n",
    "kernel_j = np.zeros((3,3), np.uint8)\n",
    "kernel_j[1][0] = kernel_j[1][1] = kernel_j[2][1] = 1\n",
    "print(kernel_j)\n",
    "img2_c = img2.copy()\n",
    "for i in range(len(img2)):\n",
    "    for j in range(len(img2[0])):\n",
    "        if img2[i][j] == 255:\n",
    "            img2_c[i][j] = 0\n",
    "        else:\n",
    "            img2_c[i][j] = 255\n",
    "imshow(img2_c)"
   ]
  },
  {
   "cell_type": "code",
   "execution_count": null,
   "metadata": {},
   "outputs": [],
   "source": [
    "h_img = erosion(img2, kernel_j)\n",
    "h_img_c = erosion(img2_c, kernel_k)\n",
    "h_and_m = np.zeros([len(img2),len(img2[0])],dtype=np.uint8)\n",
    "for i in range(len(h_img_c)):\n",
    "    for j in range(len(h_img_c[0])):\n",
    "        if h_img_c[i][j] == h_img[i][j]:\n",
    "            h_and_m[i][j] = h_img[i][j]\n",
    "cv2.imwrite('Hit-and-Miss.png', h_and_m)\n",
    "cv2.imshow('Hit-and-Miss.png',h_and_m)"
   ]
  },
  {
   "cell_type": "code",
   "execution_count": null,
   "metadata": {},
   "outputs": [],
   "source": [
    "plt.imshow(h_and_m, cmap='gray')#???????"
   ]
  },
  {
   "cell_type": "code",
   "execution_count": null,
   "metadata": {},
   "outputs": [],
   "source": [
    "cv2.imshow('Hit-and-Miss.png',h_and_m)\n",
    "cv2.waitKey(0)\n",
    "cv2.destroyAllWindows()"
   ]
  },
  {
   "cell_type": "code",
   "execution_count": null,
   "metadata": {},
   "outputs": [],
   "source": []
  }
 ],
 "metadata": {
  "kernelspec": {
   "display_name": "Python 3",
   "language": "python",
   "name": "python3"
  },
  "language_info": {
   "codemirror_mode": {
    "name": "ipython",
    "version": 3
   },
   "file_extension": ".py",
   "mimetype": "text/x-python",
   "name": "python",
   "nbconvert_exporter": "python",
   "pygments_lexer": "ipython3",
   "version": "3.7.1"
  }
 },
 "nbformat": 4,
 "nbformat_minor": 2
}
