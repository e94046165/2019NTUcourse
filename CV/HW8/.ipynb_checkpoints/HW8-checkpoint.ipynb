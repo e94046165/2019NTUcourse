{
 "cells": [
  {
   "cell_type": "code",
   "execution_count": 1,
   "metadata": {},
   "outputs": [
    {
     "name": "stdout",
     "output_type": "stream",
     "text": [
      "(512, 512)\n"
     ]
    }
   ],
   "source": [
    "import cv2 \n",
    "import numpy as np\n",
    "from matplotlib import pyplot as plt\n",
    "img = cv2.imread('lena.bmp', 0)\n",
    "def imshow(img):\n",
    "    plt.imshow(img, cmap='Greys_r',vmin = 0, vmax = 255)\n",
    "    plt.show()\n",
    "\n",
    "print(img.shape)"
   ]
  },
  {
   "cell_type": "code",
   "execution_count": 2,
   "metadata": {},
   "outputs": [],
   "source": [
    "# (a) Generate noisy images with gaussian noise\n",
    "def gen_gaussianNoise(img, u, sig, amp):\n",
    "    return img + amp * np.random.normal(u, sig, img.shape)"
   ]
  },
  {
   "cell_type": "code",
   "execution_count": 3,
   "metadata": {},
   "outputs": [],
   "source": [
    "#(b) Generate noisy images with salt-and-pepper noise\n",
    "def gen_saltAndPepperNoise(img, u, sig, threshold):\n",
    "    salt_img = img.copy()\n",
    "    a = np.random.uniform(0, 1, img.shape)\n",
    "    for i in range(len(img)):\n",
    "        for j in range(len(img[0])):\n",
    "            if a[i][j] < threshold:\n",
    "                salt_img[i][j] = 0\n",
    "            elif a[i][j] > 1-threshold:\n",
    "                salt_img[i][j] = 255\n",
    "            \n",
    "    return salt_img"
   ]
  },
  {
   "cell_type": "code",
   "execution_count": 4,
   "metadata": {},
   "outputs": [],
   "source": [
    "#(c) box filter\n",
    "def box_filter(img, size):\n",
    "    img_padding = np.zeros(( len(img)+ size - 1, len(img[0]) + size - 1), dtype = np.int)\n",
    "    for i in range(len(img)):\n",
    "        for j in range(len(img[0])):\n",
    "            img_padding[i+size//2][j+size//2] = img[i][j]\n",
    "    img_boxFilter = img.copy()\n",
    "    for i in range(len(img)):\n",
    "        for j in range(len(img[0])):\n",
    "            img_boxFilter[i][j] = np.mean(img_padding[i:i+size, j:j+size])\n",
    "    return img_boxFilter"
   ]
  },
  {
   "cell_type": "code",
   "execution_count": 5,
   "metadata": {},
   "outputs": [],
   "source": [
    "#(d)median filter\n",
    "def median_filter(img, size):\n",
    "    img_padding = np.zeros(( len(img)+ size - 1, len(img[0]) + size - 1), dtype = np.int)\n",
    "    for i in range(len(img)):\n",
    "        for j in range(len(img[0])):\n",
    "            img_padding[i+size//2][j+size//2] = img[i][j]\n",
    "    img_medianFilter = img.copy()\n",
    "    for i in range(len(img)):\n",
    "        for j in range(len(img[0])):\n",
    "            img_medianFilter[i][j] = np.median(img_padding[i:i+size, j:j+size])\n",
    "    return img_medianFilter"
   ]
  },
  {
   "cell_type": "code",
   "execution_count": 6,
   "metadata": {},
   "outputs": [],
   "source": [
    "#(e)opening-then-closing and closing-then opening filter\n",
    "from HW5 import *\n",
    "kernel = np.ones((5,5), np.uint8) \n",
    "kernel[0][0] = kernel[0][4] = kernel[4][0] = kernel[4][4] = 0"
   ]
  },
  {
   "cell_type": "code",
   "execution_count": 7,
   "metadata": {},
   "outputs": [],
   "source": [
    "img_GaussianNoise_10 = gen_gaussianNoise(img, 0, 1, 10)\n",
    "img_GaussianNoise_30 = gen_gaussianNoise(img, 0, 1, 30)\n",
    "img_SaltAndPepper_01 = gen_saltAndPepperNoise(img, 0, 1, 0.1)\n",
    "img_SaltAndPepper_005 = gen_saltAndPepperNoise(img, 0, 1, 0.05)"
   ]
  },
  {
   "cell_type": "code",
   "execution_count": 8,
   "metadata": {},
   "outputs": [],
   "source": [
    "#(c) box filter on (a)(b)\n",
    "boxfilter_G10_3x3 = box_filter(img_GaussianNoise_10, 3)\n",
    "boxfilter_G30_3x3 = box_filter(img_GaussianNoise_30, 3)\n",
    "boxfilter_G10_5x5 = box_filter(img_GaussianNoise_10, 5)\n",
    "boxfilter_G30_5x5 = box_filter(img_GaussianNoise_30, 5)\n",
    "boxfilter_SAP005_3x3 = box_filter(img_SaltAndPepper_005, 3)\n",
    "boxfilter_SAP01_3x3 = box_filter(img_SaltAndPepper_01, 3)\n",
    "boxfilter_SAP005_5x5 = box_filter(img_SaltAndPepper_005, 5)\n",
    "boxfilter_SAP01_5x5 = box_filter(img_SaltAndPepper_01, 5)"
   ]
  },
  {
   "cell_type": "code",
   "execution_count": 9,
   "metadata": {},
   "outputs": [],
   "source": [
    "#(d)median filter on (a)(b)\n",
    "median_filter_G10_3x3 = median_filter(img_GaussianNoise_10, 3)\n",
    "median_filter_G30_3x3 = median_filter(img_GaussianNoise_30, 3)\n",
    "median_filter_G10_5x5 = median_filter(img_GaussianNoise_10, 5)\n",
    "median_filter_G30_5x5 = median_filter(img_GaussianNoise_30, 5)\n",
    "median_filter_SAP005_3x3 = median_filter(img_SaltAndPepper_005, 3)\n",
    "median_filter_SAP01_3x3 = median_filter(img_SaltAndPepper_01, 3)\n",
    "median_filter_SAP005_5x5 = median_filter(img_SaltAndPepper_005, 5)\n",
    "median_filter_SAP01_5x5 = median_filter(img_SaltAndPepper_01, 5)"
   ]
  },
  {
   "cell_type": "code",
   "execution_count": null,
   "metadata": {},
   "outputs": [],
   "source": [
    "#(e)opening-then-closing and closing-then opening filter on (a)(b)\n",
    "oc_G10 = closing(opening(img_GaussianNoise_10, kernel), kernel)\n",
    "oc_G30 = closing(opening(img_GaussianNoise_30, kernel), kernel)\n",
    "oc_SAP005 = closing(opening(img_SaltAndPepper_005, kernel), kernel)\n",
    "oc_SAP01 = closing(opening(img_SaltAndPepper_01, kernel), kernel)\n",
    "co_G10 = opening(closing(img_GaussianNoise_10, kernel), kernel)\n",
    "co_G30 = opening(closing(img_GaussianNoise_30, kernel), kernel)\n",
    "co_SAP005 = opening(closing(img_SaltAndPepper_005, kernel), kernel)\n",
    "co_SAP01 = opening(closing(img_SaltAndPepper_01, kernel), kernel)"
   ]
  },
  {
   "cell_type": "code",
   "execution_count": null,
   "metadata": {},
   "outputs": [],
   "source": [
    "# conculate SNR for each picture\n",
    "#normalize pixel from 0~255 to 0~1\n",
    "def normalize(img):\n",
    "    imax = 0\n",
    "    imin = 255\n",
    "    for i in range(len(img)):\n",
    "        for j in range(len(img[0])):\n",
    "            if img[i][j] > imax:\n",
    "                imax = img[i][j]\n",
    "            if img[i][j] < imin:\n",
    "                imin = img[i][j]\n",
    "\n",
    "    normal_img = np.zeros(img.shape)\n",
    "    #normal_img[i][j] = (img[i][j])/(255)\n",
    "    #why not\n",
    "    #normal_img[i][j] = (img[i][j] - imin)/(imax - imin)\n",
    "    #WTF\n",
    "    for i in range(len(img)):\n",
    "        for j in range(len(img[0])):\n",
    "            normal_img[i][j] = (img[i][j])/(255)\n",
    "    return normal_img\n",
    "import math\n",
    "# SNR function\n",
    "def getSNR(signal_img, noise_img):\n",
    "    Vs = Us = Vn = Un = 0\n",
    "    for i in range(signal_img.shape[0]):\n",
    "        for j in range(signal_img.shape[1]):\n",
    "            Us += signal_img[i][j]\n",
    "            Un += noise_img[i][j] - signal_img[i][j]\n",
    "    Us = Us/(signal_img.shape[0]*signal_img.shape[1])\n",
    "    Un = Un/(noise_img.shape[0]*noise_img.shape[1])    \n",
    "    for i in range(signal_img.shape[0]):\n",
    "        for j in range(signal_img.shape[1]):\n",
    "            Vs += math.pow(signal_img[i][j] - Us, 2)\n",
    "            Vn += math.pow(noise_img[i][j] - signal_img[i][j] - Un, 2)\n",
    "    Vs = math.pow(Vs/(signal_img.shape[0]*signal_img.shape[1]), 0.5)\n",
    "    Vn = math.pow(Vn/(noise_img.shape[0]*noise_img.shape[1]), 0.5 )   \n",
    "    return 20*math.log10(Vs/Vn)"
   ]
  },
  {
   "cell_type": "code",
   "execution_count": null,
   "metadata": {},
   "outputs": [],
   "source": [
    "median_5x5 = cv2.imread('median_5x5.bmp', 0)\n",
    "img = cv2.imread('lena.bmp', 0)\n",
    "nor_img = normalize(img)\n",
    "print(getSNR(nor_img, normalize(median_5x5)))"
   ]
  },
  {
   "cell_type": "code",
   "execution_count": null,
   "metadata": {},
   "outputs": [],
   "source": [
    "dict = {}\n",
    "dict['img_GaussianNoise_10'] = img_GaussianNoise_10\n",
    "dict['img_GaussianNoise_30'] = img_GaussianNoise_30\n",
    "dict['img_SaltAndPepper_005'] = img_SaltAndPepper_005\n",
    "dict['img_SaltAndPepper_01'] = img_SaltAndPepper_01\n",
    "dict['boxfilter_G10_3x3'] = boxfilter_G10_3x3\n",
    "dict['boxfilter_G10_5x5'] = boxfilter_G10_5x5\n",
    "dict['boxfilter_G30_3x3'] = boxfilter_G30_3x3\n",
    "dict['boxfilter_G30_5x5'] = boxfilter_G30_5x5\n",
    "dict['boxfilter_SAP005_3x3'] = boxfilter_SAP005_3x3\n",
    "dict['boxfilter_SAP005_5x5'] = boxfilter_SAP005_5x5\n",
    "dict['boxfilter_SAP01_3x3'] = boxfilter_SAP01_3x3\n",
    "dict['boxfilter_SAP01_5x5'] = boxfilter_SAP01_5x5\n",
    "dict['median_filter_G10_3x3'] = median_filter_G10_3x3\n",
    "dict['median_filter_G10_5x5'] = median_filter_G10_5x5\n",
    "dict['median_filter_G30_3x3'] = median_filter_G30_3x3\n",
    "dict['median_filter_G30_5x5'] = median_filter_G30_5x5\n",
    "dict['median_filter_SAP005_3x3'] = median_filter_SAP005_3x3\n",
    "dict['median_filter_SAP005_5x5'] = median_filter_SAP005_5x5\n",
    "dict['median_filter_SAP01_3x3'] = median_filter_SAP01_3x3\n",
    "dict['median_filter_SAP01_5x5'] = median_filter_SAP01_5x5\n",
    "dict['oc_G10'] = oc_G10 \n",
    "dict['co_G10'] = co_G10 \n",
    "dict['oc_G30'] = oc_G30\n",
    "dict['co_G30'] = co_G30\n",
    "dict['oc_SAP005'] = oc_SAP005\n",
    "dict['co_SAP005'] = co_SAP005\n",
    "dict['oc_SAP01'] = oc_SAP01\n",
    "dict['co_SAP01'] = co_SAP01"
   ]
  },
  {
   "cell_type": "code",
   "execution_count": null,
   "metadata": {},
   "outputs": [],
   "source": [
    "for i in dict:\n",
    "    print(i, 'SNR:', getSNR(nor_img, normalize(dict[i])))\n",
    "    cv2.imwrite(i + \".bmp\", dict[i])"
   ]
  }
 ],
 "metadata": {
  "kernelspec": {
   "display_name": "Python 3",
   "language": "python",
   "name": "python3"
  },
  "language_info": {
   "codemirror_mode": {
    "name": "ipython",
    "version": 3
   },
   "file_extension": ".py",
   "mimetype": "text/x-python",
   "name": "python",
   "nbconvert_exporter": "python",
   "pygments_lexer": "ipython3",
   "version": "3.6.8"
  }
 },
 "nbformat": 4,
 "nbformat_minor": 2
}
