{
 "cells": [
  {
   "cell_type": "code",
   "execution_count": 1,
   "metadata": {},
   "outputs": [],
   "source": [
    "import numpy as np\n",
    "import random\n",
    "from matplotlib import pyplot as plt\n",
    "file1 = open(\"hw1_6_train\",\"r\")\n",
    "line = \"start\"\n",
    "x = []\n",
    "\n",
    "while 1:\n",
    "    line = file1.readline()\n",
    "    if not line:\n",
    "        break\n",
    "    line = line.replace('\\t',' ')\n",
    "    line = line.replace('\\n','')\n",
    "    line = line.split(\" \")\n",
    "    x.append([1]+[float(j) for j in line ])# 1 for x0\n",
    "file1.close()"
   ]
  },
  {
   "cell_type": "code",
   "execution_count": 2,
   "metadata": {},
   "outputs": [],
   "source": [
    "def pla(dataset):\n",
    "    order = []\n",
    "    for i in range(len(dataset)):\n",
    "        order.append(i)\n",
    "    random.shuffle(order)\n",
    "    update = 0\n",
    "    w = [0, 0, 0, 0, 0]\n",
    "    while True:\n",
    "        change = 0\n",
    "        for i in order:\n",
    "            Y = np.dot(w, dataset[i][:len(w)])\n",
    "            if np.sign(Y) != dataset[i][-1]:\n",
    "                for k in range(len(w)):\n",
    "                    w[k] += dataset[i][-1]*dataset[i][k]\n",
    "                change = 1\n",
    "                update += 1\n",
    "        if change == 0:\n",
    "            break\n",
    "    return w ,update"
   ]
  },
  {
   "cell_type": "code",
   "execution_count": 4,
   "metadata": {},
   "outputs": [
    {
     "name": "stdout",
     "output_type": "stream",
     "text": [
      "40.07992895204263\n"
     ]
    },
    {
     "data": {
      "image/png": "[encoded data removed]",
      "text/plain": [
       "<Figure size 432x288 with 1 Axes>"
      ]
     },
     "metadata": {
      "needs_background": "light"
     },
     "output_type": "display_data"
    }
   ],
   "source": [
    "histogram = []\n",
    "for i in range(1126):\n",
    "    w, update = pla(x)\n",
    "    histogram.append(update)\n",
    "print(np.mean(histogram))\n",
    "plt.hist(histogram)\n",
    "plt.savefig(\"histogram_6.png\",format=\"png\")"
   ]
  }
 ],
 "metadata": {
  "kernelspec": {
   "display_name": "Python 3",
   "language": "python",
   "name": "python3"
  },
  "language_info": {
   "codemirror_mode": {
    "name": "ipython",
    "version": 3
   },
   "file_extension": ".py",
   "mimetype": "text/x-python",
   "name": "python",
   "nbconvert_exporter": "python",
   "pygments_lexer": "ipython3",
   "version": "3.7.1"
  }
 },
 "nbformat": 4,
 "nbformat_minor": 2
}
