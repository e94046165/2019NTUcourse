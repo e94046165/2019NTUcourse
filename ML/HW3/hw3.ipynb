{
 "cells": [
  {
   "cell_type": "code",
   "execution_count": 1,
   "metadata": {},
   "outputs": [],
   "source": [
    "import numpy as np\n",
    "import random\n",
    "from matplotlib import pyplot as plt\n",
    "\n",
    "def getData(path):\n",
    "    file1 = open(path,\"r\")\n",
    "    line = \"start\"\n",
    "    x = []\n",
    "    y = []\n",
    "    while 1: \n",
    "        line = file1.readline()\n",
    "        if not line:\n",
    "            break\n",
    "        line = line.replace('\\t',' ')\n",
    "        line = line.replace('\\n','')\n",
    "        line = line.split(\" \")\n",
    "        x.append([1]+[float(j) for j in line[1:len(line) -1] ])# 1 for x0\n",
    "        y.append(int(line[-1]))\n",
    "    file1.close()\n",
    "    x = np.array(x)\n",
    "    y = np.array(y)\n",
    "    return x, y\n",
    "\n",
    "\n",
    "'''\n",
    "Implement the fixed learning rate gradient descent algorithm for logistic regression. \n",
    "Run the algorithm with η=0.001 and T = 2000. \n",
    "What is Eout(g) from your algorithm, evaluated using the 0/1 error on the test set?\n",
    "'''\n",
    "def sigmoid(s):\n",
    "    return 1/(1 + np.exp(-s))\n",
    "def sign(num):\n",
    "    if num>= 0:\n",
    "        return 1\n",
    "    else:\n",
    "        return -1\n",
    "\n",
    "def logistic(T, n, w0, x, y):\n",
    "    w = w0.copy()\n",
    "    w_record = []\n",
    "    for i in range(T):\n",
    "        w = w + n * gradient(w, x, y)\n",
    "        w_record.append(w)\n",
    "    return w_record\n",
    "\n",
    "def gradient(w ,x, y):\n",
    "    N = len(y)\n",
    "    err = np.array([0]*len(w))\n",
    "    for n in range(N):\n",
    "        err = err + sigmoid(-1 * y[n] * w.dot(x[n]))*(y[n]*x[n])\n",
    "    return err/N"
   ]
  },
  {
   "cell_type": "code",
   "execution_count": 2,
   "metadata": {},
   "outputs": [],
   "source": [
    "train_x, train_y = getData('hw3_train')\n",
    "test_x, test_y = getData(\"hw3_test\")\n",
    "def errorRate(w, testx, testy):\n",
    "    wrong = 0\n",
    "    for i in range(len(testx)):\n",
    "        if sign(w.dot(testx[i])) != testy[i]:\n",
    "            wrong += 1\n",
    "    return wrong/len(testx)"
   ]
  },
  {
   "cell_type": "code",
   "execution_count": 3,
   "metadata": {},
   "outputs": [],
   "source": [
    "def logisticSGD(T, n, w0, x, y):\n",
    "    w = w0.copy()\n",
    "    w_record = []\n",
    "    for i in range(T):\n",
    "        err = np.array([0]*len(w))\n",
    "        err = err + sigmoid(-1 * y[i%len(x)] * w.dot(x[i%len(x)]))*(y[i%len(x)]*x[i%len(x)])\n",
    "        w = w + n * err\n",
    "        #print(w)\n",
    "        w_record.append(w)\n",
    "    return w_record"
   ]
  },
  {
   "cell_type": "code",
   "execution_count": 4,
   "metadata": {},
   "outputs": [
    {
     "name": "stdout",
     "output_type": "stream",
     "text": [
      "eta = 0.001\n",
      "=====GD=====\n",
      "Ein = 0.466\n",
      "Eout = 0.475\n",
      "=====SGD=====\n",
      "Ein = 0.464\n",
      "Eout = 0.473\n"
     ]
    }
   ],
   "source": [
    "T = 2000\n",
    "n = 0.001\n",
    "w0 = np.array([0]*len(train_x[0]))\n",
    "w_0001_GD = logistic(T, n, w0, train_x, train_y)\n",
    "w_0001_SGD = logisticSGD(T, n, w0, train_x, train_y)\n",
    "print(\"eta = 0.001\")\n",
    "print(\"=====GD=====\")\n",
    "print(\"Ein =\",errorRate(w_0001_GD[-1], train_x, train_y))\n",
    "print(\"Eout =\",errorRate(w_0001_GD[-1], test_x, test_y))\n",
    "print(\"=====SGD=====\")\n",
    "print(\"Ein =\",errorRate(w_0001_SGD[-1], train_x, train_y))\n",
    "print(\"Eout =\",errorRate(w_0001_SGD[-1], test_x, test_y))"
   ]
  },
  {
   "cell_type": "code",
   "execution_count": 5,
   "metadata": {},
   "outputs": [
    {
     "name": "stdout",
     "output_type": "stream",
     "text": [
      "eta = 0.01\n",
      "=====GD=====\n",
      "Ein = 0.197\n",
      "Eout = 0.22\n",
      "=====SGD=====\n",
      "Ein = 0.187\n",
      "Eout = 0.20533333333333334\n"
     ]
    }
   ],
   "source": [
    "T = 2000\n",
    "n = 0.01\n",
    "w0 = np.array([0]*len(train_x[0]))\n",
    "w_001_GD = logistic(T, n, w0, train_x, train_y)\n",
    "w_001_SGD = logisticSGD(T, n, w0, train_x, train_y)\n",
    "print(\"eta = 0.01\")\n",
    "print(\"=====GD=====\")\n",
    "print(\"Ein =\",errorRate(w_001_GD[-1], train_x, train_y))\n",
    "print(\"Eout =\",errorRate(w_001_GD[-1], test_x, test_y))\n",
    "print(\"=====SGD=====\")\n",
    "print(\"Ein =\",errorRate(w_001_SGD[-1], train_x, train_y))\n",
    "print(\"Eout =\",errorRate(w_001_SGD[-1], test_x, test_y))"
   ]
  },
  {
   "cell_type": "code",
   "execution_count": 6,
   "metadata": {},
   "outputs": [],
   "source": [
    "Ein_0001_GD = []\n",
    "Ein_0001_SGD = []\n",
    "for w in w_0001_GD:\n",
    "    Ein_0001_GD.append(errorRate(w, test_x, test_y))\n",
    "for w in w_0001_SGD:\n",
    "    Ein_0001_SGD.append(errorRate(w, test_x, test_y))"
   ]
  },
  {
   "cell_type": "code",
   "execution_count": 7,
   "metadata": {},
   "outputs": [],
   "source": [
    "Ein_001_GD = []\n",
    "Ein_001_SGD = []\n",
    "for w in w_001_GD:\n",
    "    Ein_001_GD.append(errorRate(w, test_x, test_y))\n",
    "for w in w_001_SGD:\n",
    "    Ein_001_SGD.append(errorRate(w, test_x, test_y))"
   ]
  },
  {
   "cell_type": "code",
   "execution_count": 17,
   "metadata": {},
   "outputs": [
    {
     "data": {
      "image/png": "[encoded data removed]",
      "text/plain": [
       "<Figure size 432x288 with 1 Axes>"
      ]
     },
     "metadata": {
      "needs_background": "light"
     },
     "output_type": "display_data"
    }
   ],
   "source": [
    "x = [i for i in range(2000)]\n",
    "plt.plot(x, Ein_0001_SGD, '-', label='Ein_0001_SGD', markersize=1)\n",
    "plt.plot(x, Ein_0001_GD, '-', label='Ein_0001_GD', markersize=1)\n",
    "plt.legend()\n",
    "plt.savefig('eta0001.png')\n",
    "plt.show()"
   ]
  },
  {
   "cell_type": "code",
   "execution_count": 16,
   "metadata": {},
   "outputs": [
    {
     "data": {
      "image/png": "[encoded data removed]",
      "text/plain": [
       "<Figure size 432x288 with 1 Axes>"
      ]
     },
     "metadata": {
      "needs_background": "light"
     },
     "output_type": "display_data"
    }
   ],
   "source": [
    "x = [i for i in range(2000)]\n",
    "plt.plot(x, Ein_001_SGD, '-', label='Ein_001_SGD', markersize=1)\n",
    "plt.plot(x, Ein_001_GD, '-', label='Ein_001_GD', markersize=1)\n",
    "plt.legend()\n",
    "plt.savefig('eta001.png')\n",
    "plt.show()"
   ]
  },
  {
   "cell_type": "code",
   "execution_count": 22,
   "metadata": {},
   "outputs": [
    {
     "name": "stdout",
     "output_type": "stream",
     "text": [
      "1 0.20533333333333334\n",
      "2 0.21966666666666668\n",
      "3 0.23366666666666666\n",
      "4 0.21966666666666668\n",
      "5 0.24233333333333335\n",
      "6 0.236\n",
      "7 0.222\n",
      "8 0.21433333333333332\n",
      "9 0.23033333333333333\n",
      "10 0.21033333333333334\n",
      "11 0.19833333333333333\n",
      "12 0.19266666666666668\n",
      "13 0.19433333333333333\n",
      "14 0.19433333333333333\n",
      "15 0.207\n",
      "16 0.191\n",
      "17 0.19433333333333333\n",
      "18 0.19833333333333333\n",
      "19 0.213\n",
      "20 0.23166666666666666\n",
      "21 0.20666666666666667\n",
      "22 0.199\n",
      "23 0.2\n",
      "24 0.19833333333333333\n",
      "25 0.19566666666666666\n",
      "26 0.198\n",
      "27 0.20033333333333334\n",
      "28 0.19766666666666666\n",
      "29 0.19466666666666665\n",
      "30 0.197\n",
      "31 0.19966666666666666\n",
      "32 0.20666666666666667\n",
      "33 0.21766666666666667\n",
      "34 0.20833333333333334\n",
      "35 0.22\n",
      "36 0.23366666666666666\n",
      "37 0.249\n",
      "38 0.2776666666666667\n",
      "39 0.2916666666666667\n",
      "40 0.31033333333333335\n",
      "41 0.2946666666666667\n",
      "42 0.315\n",
      "43 0.33366666666666667\n",
      "44 0.32566666666666666\n",
      "45 0.30366666666666664\n",
      "46 0.32066666666666666\n",
      "47 0.339\n",
      "48 0.3546666666666667\n",
      "49 0.3393333333333333\n",
      "50 0.32666666666666666\n",
      "51 0.34\n",
      "52 0.3283333333333333\n",
      "53 0.3453333333333333\n",
      "54 0.32966666666666666\n",
      "55 0.31833333333333336\n",
      "56 0.30233333333333334\n",
      "57 0.286\n",
      "58 0.27466666666666667\n",
      "59 0.2886666666666667\n",
      "60 0.30633333333333335\n",
      "61 0.28833333333333333\n",
      "62 0.2793333333333333\n",
      "63 0.28833333333333333\n",
      "64 0.27666666666666667\n",
      "65 0.25\n",
      "66 0.23866666666666667\n",
      "67 0.223\n",
      "68 0.24033333333333334\n",
      "69 0.22166666666666668\n",
      "70 0.209\n",
      "71 0.225\n",
      "72 0.209\n",
      "73 0.19933333333333333\n",
      "74 0.19566666666666666\n",
      "75 0.19566666666666666\n",
      "76 0.19266666666666668\n",
      "77 0.198\n",
      "78 0.21033333333333334\n",
      "79 0.21966666666666668\n",
      "80 0.21033333333333334\n",
      "81 0.20266666666666666\n",
      "82 0.193\n",
      "83 0.20466666666666666\n",
      "84 0.19433333333333333\n",
      "85 0.203\n",
      "86 0.217\n",
      "87 0.23566666666666666\n",
      "88 0.258\n",
      "89 0.238\n",
      "90 0.227\n",
      "91 0.21333333333333335\n",
      "92 0.22433333333333333\n",
      "93 0.213\n",
      "94 0.20266666666666666\n",
      "95 0.195\n",
      "96 0.20166666666666666\n",
      "97 0.19533333333333333\n",
      "98 0.19833333333333333\n",
      "99 0.208\n"
     ]
    }
   ],
   "source": [
    "for i in range(1,100):\n",
    "    print(i, Ein_001_SGD[-i])"
   ]
  },
  {
   "cell_type": "code",
   "execution_count": null,
   "metadata": {},
   "outputs": [],
   "source": []
  }
 ],
 "metadata": {
  "kernelspec": {
   "display_name": "Python 3",
   "language": "python",
   "name": "python3"
  },
  "language_info": {
   "codemirror_mode": {
    "name": "ipython",
    "version": 3
   },
   "file_extension": ".py",
   "mimetype": "text/x-python",
   "name": "python",
   "nbconvert_exporter": "python",
   "pygments_lexer": "ipython3",
   "version": "3.6.8"
  }
 },
 "nbformat": 4,
 "nbformat_minor": 2
}
