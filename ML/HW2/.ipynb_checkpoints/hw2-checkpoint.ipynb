{
 "cells": [
  {
   "cell_type": "code",
   "execution_count": 78,
   "metadata": {},
   "outputs": [
    {
     "name": "stdout",
     "output_type": "stream",
     "text": [
      "0.1819999999999996 0.25020096924555957\n"
     ]
    }
   ],
   "source": [
    "import numpy as np\n",
    "import math\n",
    "import matplotlib.pyplot as plt\n",
    "\n",
    "\n",
    "'''\n",
    "def computeN(dvc, err, delta, NN):\n",
    "    res = []\n",
    "    for N in NN:\n",
    "        tmp = 4*(math.pow(2*N, dvc))*math.exp(-1/8 * (err**2) * N)\n",
    "        res.append('When sample N = ' + str(N) + ':    ' + str(tmp))\n",
    "    for j in res:\n",
    "        print(j)\n",
    "\n",
    "N = [400000, 420000, 440000, 460000, 480000]\n",
    "computeN(10, 0.05, 0.05, N)\n",
    "'''\n",
    "def sign(x): #用來判斷正負\n",
    "    if x > 0:\n",
    "        return 1\n",
    "    else:\n",
    "        return -1\n",
    "    \n",
    "#generate data by a uniform distribution in [a, b] of size = N, \n",
    "#noise_P means the probability of noise(flips), which should in [0, 1]\n",
    "def gen(a, b, N, noise_P):\n",
    "    x = np.random.uniform(a, b, N)\n",
    "    noise = np.random.uniform(0, 1, N)\n",
    "    y = [0]*len(x)\n",
    "    flip_count = 0\n",
    "    for i in range(N):\n",
    "        if noise[i] <= noise_P:\n",
    "            y[i] = sign(x[i])*(-1)\n",
    "            flip_count += 1\n",
    "        else:\n",
    "            y[i] = sign(x[i])\n",
    "    #print(flip_count)\n",
    "    return x, y\n",
    "def decisionStump(a, b, N, noise_P):\n",
    "    theta = [-1]\n",
    "    Ein_min = 1\n",
    "    data_x, data_y = gen(a, b, N, noise_P)\n",
    "    for i in range(len(data_x)-1):\n",
    "        theta.append((data_x[i]+data_x[i+1])/2)\n",
    "    theta.append(1)\n",
    "    #print(data_x)\n",
    "    #print(theta)\n",
    "    # First, set s = 1, find the minimum Ein when s = 1, and update Ein_min and theta_best\n",
    "    s = 1\n",
    "    theta_best = 0\n",
    "    for i in theta:\n",
    "        wrong = 0\n",
    "        for j in range(len(data_x)):\n",
    "            if data_y[j]*sign(data_x[j] - i) != 1:\n",
    "                wrong += 1\n",
    "        if wrong/len(data_x) < Ein_min:\n",
    "            Ein_min = wrong/len(data_x)\n",
    "            theta_best = i\n",
    "    # Then set s = -1, if there's any Ein less than the Ein_min before, update Ein_min, s and theta_best\n",
    "    for i in theta:\n",
    "        wrong = 0\n",
    "        for j in range(len(data_x)):\n",
    "            if -1*data_y[j]*sign(data_x[j] - i) != 1:\n",
    "                wrong += 1\n",
    "        if wrong/len(data_x) < Ein_min:\n",
    "            s = -1\n",
    "            Ein_min = wrong/len(data_x)\n",
    "            theta_best = i\n",
    "    Eout = 0.5 + 0.3*s*(abs(theta_best) - 1)\n",
    "    return Ein_min, Eout\n",
    "#7 \n",
    "Ein_avg = Eout_avg = 0\n",
    "repeat = 1000\n",
    "for i in range(repeat):\n",
    "    Ein, Eout= decisionStump(-1, 1, 20, 0.2)\n",
    "    Ein_avg += Ein\n",
    "    Eout_avg += Eout\n",
    "Ein_avg /= repeat\n",
    "Eout_avg /= repeat\n",
    "print(Ein_avg, Eout_avg)"
   ]
  },
  {
   "cell_type": "code",
   "execution_count": 80,
   "metadata": {},
   "outputs": [
    {
     "name": "stdout",
     "output_type": "stream",
     "text": [
      "0\n",
      "1\n",
      "2\n",
      "3\n",
      "4\n"
     ]
    },
    {
     "ename": "KeyboardInterrupt",
     "evalue": "",
     "output_type": "error",
     "traceback": [
      "\u001b[0;31m---------------------------------------------------------------------------\u001b[0m",
      "\u001b[0;31mKeyboardInterrupt\u001b[0m                         Traceback (most recent call last)",
      "\u001b[0;32m<ipython-input-80-60e3c385d4b5>\u001b[0m in \u001b[0;36m<module>\u001b[0;34m\u001b[0m\n\u001b[1;32m      4\u001b[0m \u001b[0;32mfor\u001b[0m \u001b[0mi\u001b[0m \u001b[0;32min\u001b[0m \u001b[0mrange\u001b[0m\u001b[0;34m(\u001b[0m\u001b[0mrepeat\u001b[0m\u001b[0;34m)\u001b[0m\u001b[0;34m:\u001b[0m\u001b[0;34m\u001b[0m\u001b[0;34m\u001b[0m\u001b[0m\n\u001b[1;32m      5\u001b[0m     \u001b[0mprint\u001b[0m\u001b[0;34m(\u001b[0m\u001b[0mi\u001b[0m\u001b[0;34m)\u001b[0m\u001b[0;34m\u001b[0m\u001b[0;34m\u001b[0m\u001b[0m\n\u001b[0;32m----> 6\u001b[0;31m     \u001b[0mEin\u001b[0m\u001b[0;34m,\u001b[0m \u001b[0mEout\u001b[0m\u001b[0;34m=\u001b[0m \u001b[0mdecisionStump\u001b[0m\u001b[0;34m(\u001b[0m\u001b[0;34m-\u001b[0m\u001b[0;36m1\u001b[0m\u001b[0;34m,\u001b[0m \u001b[0;36m1\u001b[0m\u001b[0;34m,\u001b[0m \u001b[0;36m2000\u001b[0m\u001b[0;34m,\u001b[0m \u001b[0;36m0.2\u001b[0m\u001b[0;34m)\u001b[0m\u001b[0;34m\u001b[0m\u001b[0;34m\u001b[0m\u001b[0m\n\u001b[0m\u001b[1;32m      7\u001b[0m     \u001b[0mEin_avg\u001b[0m \u001b[0;34m+=\u001b[0m \u001b[0mEin\u001b[0m\u001b[0;34m\u001b[0m\u001b[0;34m\u001b[0m\u001b[0m\n\u001b[1;32m      8\u001b[0m     \u001b[0mEout_avg\u001b[0m \u001b[0;34m+=\u001b[0m \u001b[0mEout\u001b[0m\u001b[0;34m\u001b[0m\u001b[0;34m\u001b[0m\u001b[0m\n",
      "\u001b[0;32m<ipython-input-78-d2faba889039>\u001b[0m in \u001b[0;36mdecisionStump\u001b[0;34m(a, b, N, noise_P)\u001b[0m\n\u001b[1;32m     39\u001b[0m         \u001b[0mwrong\u001b[0m \u001b[0;34m=\u001b[0m \u001b[0;36m0\u001b[0m\u001b[0;34m\u001b[0m\u001b[0;34m\u001b[0m\u001b[0m\n\u001b[1;32m     40\u001b[0m         \u001b[0;32mfor\u001b[0m \u001b[0mj\u001b[0m \u001b[0;32min\u001b[0m \u001b[0mrange\u001b[0m\u001b[0;34m(\u001b[0m\u001b[0mlen\u001b[0m\u001b[0;34m(\u001b[0m\u001b[0mdata_x\u001b[0m\u001b[0;34m)\u001b[0m\u001b[0;34m)\u001b[0m\u001b[0;34m:\u001b[0m\u001b[0;34m\u001b[0m\u001b[0;34m\u001b[0m\u001b[0m\n\u001b[0;32m---> 41\u001b[0;31m             \u001b[0;32mif\u001b[0m \u001b[0mdata_y\u001b[0m\u001b[0;34m[\u001b[0m\u001b[0mj\u001b[0m\u001b[0;34m]\u001b[0m\u001b[0;34m*\u001b[0m\u001b[0msign\u001b[0m\u001b[0;34m(\u001b[0m\u001b[0mdata_x\u001b[0m\u001b[0;34m[\u001b[0m\u001b[0mj\u001b[0m\u001b[0;34m]\u001b[0m \u001b[0;34m-\u001b[0m \u001b[0mi\u001b[0m\u001b[0;34m)\u001b[0m \u001b[0;34m!=\u001b[0m \u001b[0;36m1\u001b[0m\u001b[0;34m:\u001b[0m\u001b[0;34m\u001b[0m\u001b[0;34m\u001b[0m\u001b[0m\n\u001b[0m\u001b[1;32m     42\u001b[0m                 \u001b[0mwrong\u001b[0m \u001b[0;34m+=\u001b[0m \u001b[0;36m1\u001b[0m\u001b[0;34m\u001b[0m\u001b[0;34m\u001b[0m\u001b[0m\n\u001b[1;32m     43\u001b[0m         \u001b[0;32mif\u001b[0m \u001b[0mwrong\u001b[0m\u001b[0;34m/\u001b[0m\u001b[0mlen\u001b[0m\u001b[0;34m(\u001b[0m\u001b[0mdata_x\u001b[0m\u001b[0;34m)\u001b[0m \u001b[0;34m<\u001b[0m \u001b[0mEin_min\u001b[0m\u001b[0;34m:\u001b[0m\u001b[0;34m\u001b[0m\u001b[0;34m\u001b[0m\u001b[0m\n",
      "\u001b[0;31mKeyboardInterrupt\u001b[0m: "
     ]
    }
   ],
   "source": [
    "#8\n",
    "Ein_avg = Eout_avg = 0\n",
    "repeat = 1000\n",
    "for i in range(repeat):\n",
    "    print(i)\n",
    "    Ein, Eout= decisionStump(-1, 1, 2000, 0.2)\n",
    "    Ein_avg += Ein\n",
    "    Eout_avg += Eout\n",
    "Ein_avg /= repeat\n",
    "Eout_avg /= repeat\n",
    "print(Ein_avg, Eout_avg)"
   ]
  }
 ],
 "metadata": {
  "kernelspec": {
   "display_name": "Python 3",
   "language": "python",
   "name": "python3"
  },
  "language_info": {
   "codemirror_mode": {
    "name": "ipython",
    "version": 3
   },
   "file_extension": ".py",
   "mimetype": "text/x-python",
   "name": "python",
   "nbconvert_exporter": "python",
   "pygments_lexer": "ipython3",
   "version": "3.6.8"
  }
 },
 "nbformat": 4,
 "nbformat_minor": 2
}
