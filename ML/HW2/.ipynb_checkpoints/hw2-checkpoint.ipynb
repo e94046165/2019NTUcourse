{
 "cells": [
  {
   "cell_type": "code",
   "execution_count": 1,
   "metadata": {},
   "outputs": [],
   "source": [
    "import numpy as np\n",
    "import matplotlib.pyplot as plt\n",
    "\n",
    "\n",
    "'''\n",
    "def computeN(dvc, err, delta, NN):\n",
    "    res = []\n",
    "    for N in NN:\n",
    "        tmp = 4*(math.pow(2*N, dvc))*math.exp(-1/8 * (err**2) * N)\n",
    "        res.append('When sample N = ' + str(N) + ':    ' + str(tmp))\n",
    "    for j in res:\n",
    "        print(j)\n",
    "\n",
    "N = [400000, 420000, 440000, 460000, 480000]\n",
    "computeN(10, 0.05, 0.05, N)\n",
    "'''\n",
    "def sign(x): #用來判斷正負\n",
    "    if x > 0:\n",
    "        return 1\n",
    "    else:\n",
    "        return -1\n",
    "    \n",
    "#generate data by a uniform distribution in [a, b] of size = N, \n",
    "#noise_P means the probability of noise(flips), which should in [0, 1]\n",
    "def gen(a, b, N, noise_P):\n",
    "    x = np.random.uniform(a, b, N)\n",
    "    noise = np.random.uniform(0, 1, N)\n",
    "    y = [0]*len(x)\n",
    "    flip_count = 0\n",
    "    for i in range(N):\n",
    "        if noise[i] <= noise_P:\n",
    "            y[i] = sign(x[i])*(-1)\n",
    "            flip_count += 1\n",
    "        else:\n",
    "            y[i] = sign(x[i])\n",
    "    #print(flip_count)\n",
    "    return x, y\n",
    "def decisionStump(a, b, N, noise_P):\n",
    "    theta = [-1]\n",
    "    Ein_min = 1\n",
    "    data_x, data_y = gen(a, b, N, noise_P)\n",
    "    for i in range(len(data_x)-1):\n",
    "        theta.append((data_x[i]+data_x[i+1])/2)\n",
    "    theta.append(1)\n",
    "    #print(data_x)\n",
    "    #print(theta)\n",
    "    # First, set s = 1, find the minimum Ein when s = 1, and update Ein_min and theta_best\n",
    "    s = 1\n",
    "    theta_best = 0\n",
    "    for i in theta:\n",
    "        wrong = 0\n",
    "        for j in range(len(data_x)):\n",
    "            if data_y[j]*sign(data_x[j] - i) != 1:\n",
    "                wrong += 1\n",
    "        if wrong/len(data_x) < Ein_min:\n",
    "            Ein_min = wrong/len(data_x)\n",
    "            theta_best = i\n",
    "    # Then set s = -1, if there's any Ein less than the Ein_min before, update Ein_min, s and theta_best\n",
    "    for i in theta:\n",
    "        wrong = 0\n",
    "        for j in range(len(data_x)):\n",
    "            if -1*data_y[j]*sign(data_x[j] - i) != 1:\n",
    "                wrong += 1\n",
    "        if wrong/len(data_x) < Ein_min:\n",
    "            s = -1\n",
    "            Ein_min = wrong/len(data_x)\n",
    "            theta_best = i\n",
    "    Eout = 0.5 + 0.3*s*(abs(theta_best) - 1)\n",
    "    return Ein_min, Eout"
   ]
  },
  {
   "cell_type": "code",
   "execution_count": 42,
   "metadata": {},
   "outputs": [],
   "source": [
    "#7 data_x in [-1, 1], size = 20, noise probability = 20%, repeat 1000 times\n",
    "Ein7 = []\n",
    "Eout7 = []\n",
    "repeat = 1000\n",
    "for i in range(repeat):\n",
    "    #print(i)\n",
    "    a, b= decisionStump(-1, 1, 20, 0.2)\n",
    "    Ein7.append(a)\n",
    "    Eout7.append(b)"
   ]
  },
  {
   "cell_type": "code",
   "execution_count": 45,
   "metadata": {},
   "outputs": [
    {
     "name": "stdout",
     "output_type": "stream",
     "text": [
      "Average Ein :  0.17954999999999988\n",
      "Average Eout :  0.252736032271818\n"
     ]
    },
    {
     "data": {
      "image/png": "[encoded data removed]",
      "text/plain": [
       "<Figure size 432x288 with 1 Axes>"
      ]
     },
     "metadata": {
      "needs_background": "light"
     },
     "output_type": "display_data"
    }
   ],
   "source": [
    "print(\"Average Ein : \", sum(Ein7)/len(Ein7))\n",
    "print(\"Average Eout : \",sum(Eout7)/len(Eout7))\n",
    "Ein_Eout_diff7 = []\n",
    "for i in range(len(Ein7)):\n",
    "    Ein_Eout_diff7.append(Ein7[i] - Eout7[i])\n",
    "plt.hist(Ein_Eout_diff7, [i*0.01 for i in range(-40, 40, 1)])\n",
    "plt.savefig(\"histogram_7.png\",format=\"png\")"
   ]
  },
  {
   "cell_type": "code",
   "execution_count": null,
   "metadata": {},
   "outputs": [],
   "source": [
    "#8 data_x in [-1, 1], size = 2000, noise probability = 20%, repeat 1000 times\n",
    "Ein8 = []\n",
    "Eout8 = []\n",
    "repeat = 1000\n",
    "for i in range(repeat):\n",
    "    #print(i)\n",
    "    a, b= decisionStump(-1, 1, 2000, 0.2)\n",
    "    Ein8.append(a)\n",
    "    Eout8.append(b)"
   ]
  },
  {
   "cell_type": "code",
   "execution_count": 4,
   "metadata": {},
   "outputs": [
    {
     "ename": "NameError",
     "evalue": "name 'record' is not defined",
     "output_type": "error",
     "traceback": [
      "\u001b[0;31m---------------------------------------------------------------------------\u001b[0m",
      "\u001b[0;31mNameError\u001b[0m                                 Traceback (most recent call last)",
      "\u001b[0;32m<ipython-input-4-cf1cbb72606f>\u001b[0m in \u001b[0;36m<module>\u001b[0;34m\u001b[0m\n\u001b[1;32m      2\u001b[0m \u001b[0;32mfor\u001b[0m \u001b[0mi\u001b[0m \u001b[0;32min\u001b[0m \u001b[0mrange\u001b[0m\u001b[0;34m(\u001b[0m\u001b[0mlen\u001b[0m\u001b[0;34m(\u001b[0m\u001b[0mEin7\u001b[0m\u001b[0;34m)\u001b[0m\u001b[0;34m)\u001b[0m\u001b[0;34m:\u001b[0m\u001b[0;34m\u001b[0m\u001b[0;34m\u001b[0m\u001b[0m\n\u001b[1;32m      3\u001b[0m     \u001b[0mEin_Eout_diff7\u001b[0m\u001b[0;34m.\u001b[0m\u001b[0mappend\u001b[0m\u001b[0;34m(\u001b[0m\u001b[0mEin7\u001b[0m\u001b[0;34m[\u001b[0m\u001b[0mi\u001b[0m\u001b[0;34m]\u001b[0m \u001b[0;34m-\u001b[0m \u001b[0mEout7\u001b[0m\u001b[0;34m[\u001b[0m\u001b[0mi\u001b[0m\u001b[0;34m]\u001b[0m\u001b[0;34m)\u001b[0m\u001b[0;34m\u001b[0m\u001b[0;34m\u001b[0m\u001b[0m\n\u001b[0;32m----> 4\u001b[0;31m \u001b[0mplt\u001b[0m\u001b[0;34m.\u001b[0m\u001b[0mhist\u001b[0m\u001b[0;34m(\u001b[0m\u001b[0mrecord\u001b[0m\u001b[0;34m,\u001b[0m \u001b[0;34m[\u001b[0m\u001b[0mi\u001b[0m\u001b[0;34m*\u001b[0m\u001b[0;36m0.01\u001b[0m \u001b[0;32mfor\u001b[0m \u001b[0mi\u001b[0m \u001b[0;32min\u001b[0m \u001b[0mrange\u001b[0m\u001b[0;34m(\u001b[0m\u001b[0;36m0\u001b[0m\u001b[0;34m,\u001b[0m \u001b[0;36m500\u001b[0m\u001b[0;34m,\u001b[0m \u001b[0;36m1\u001b[0m\u001b[0;34m)\u001b[0m\u001b[0;34m]\u001b[0m\u001b[0;34m)\u001b[0m\u001b[0;34m\u001b[0m\u001b[0;34m\u001b[0m\u001b[0m\n\u001b[0m\u001b[1;32m      5\u001b[0m \u001b[0mplt\u001b[0m\u001b[0;34m.\u001b[0m\u001b[0msavefig\u001b[0m\u001b[0;34m(\u001b[0m\u001b[0;34m\"histogram_7.png\"\u001b[0m\u001b[0;34m,\u001b[0m\u001b[0mformat\u001b[0m\u001b[0;34m=\u001b[0m\u001b[0;34m\"png\"\u001b[0m\u001b[0;34m)\u001b[0m\u001b[0;34m\u001b[0m\u001b[0;34m\u001b[0m\u001b[0m\n",
      "\u001b[0;31mNameError\u001b[0m: name 'record' is not defined"
     ]
    }
   ],
   "source": [
    "print(\"Average Ein : \", sum(Ein8)/len(Ein8))\n",
    "print(\"Average Eout : \",sum(Eout8)/len(Eout8))\n",
    "Ein_Eout_diff8 = []\n",
    "for i in range(len(Ein7)):\n",
    "    Ein_Eout_diff8.append(Ein8[i] - Eout8[i])\n",
    "plt.hist(Ein_Eout_diff8, [i*0.01 for i in range(-50, 50, 1)])\n",
    "plt.savefig(\"histogram_8.png\",format=\"png\")"
   ]
  },
  {
   "cell_type": "code",
   "execution_count": null,
   "metadata": {},
   "outputs": [],
   "source": []
  }
 ],
 "metadata": {
  "kernelspec": {
   "display_name": "Python 3",
   "language": "python",
   "name": "python3"
  },
  "language_info": {
   "codemirror_mode": {
    "name": "ipython",
    "version": 3
   },
   "file_extension": ".py",
   "mimetype": "text/x-python",
   "name": "python",
   "nbconvert_exporter": "python",
   "pygments_lexer": "ipython3",
   "version": "3.6.8"
  }
 },
 "nbformat": 4,
 "nbformat_minor": 2
}
