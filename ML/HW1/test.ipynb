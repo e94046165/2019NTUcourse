{
 "cells": [
  {
   "cell_type": "code",
   "execution_count": 1,
   "metadata": {},
   "outputs": [
    {
     "name": "stdout",
     "output_type": "stream",
     "text": [
      "a: [0, 0, 0]\n",
      "b: [0, 0, 0]\n",
      "a: [2, 0, 0]\n",
      "b: [2, 0, 0]\n",
      "a: [2, 2, 0]\n",
      "b: [2, 2, 0]\n"
     ]
    }
   ],
   "source": [
    "a = [0, 0, 0]\n",
    "b = a\n",
    "print(\"a:\", a)\n",
    "print(\"b:\", b)\n",
    "a[0] = 2\n",
    "print(\"a:\", a)\n",
    "print(\"b:\", b)\n",
    "b[1] = 2\n",
    "print(\"a:\", a)\n",
    "print(\"b:\", b)"
   ]
  },
  {
   "cell_type": "code",
   "execution_count": 2,
   "metadata": {},
   "outputs": [
    {
     "name": "stdout",
     "output_type": "stream",
     "text": [
      "a: [0, 0, 0]\n",
      "b: [0, 0, 0]\n",
      "a: [2, 0, 0]\n",
      "b: [0, 0, 0]\n",
      "a: [2, 0, 0]\n",
      "b: [0, 2, 0]\n"
     ]
    }
   ],
   "source": [
    "a = [0, 0, 0]\n",
    "b = a.copy()#<--------幹你娘\n",
    "print(\"a:\", a)\n",
    "print(\"b:\", b)\n",
    "\n",
    "a[0] = 2\n",
    "print(\"a:\", a)\n",
    "print(\"b:\", b)\n",
    "\n",
    "b[1] = 2\n",
    "print(\"a:\", a)\n",
    "print(\"b:\", b)"
   ]
  }
 ],
 "metadata": {
  "kernelspec": {
   "display_name": "Python 3",
   "language": "python",
   "name": "python3"
  },
  "language_info": {
   "codemirror_mode": {
    "name": "ipython",
    "version": 3
   },
   "file_extension": ".py",
   "mimetype": "text/x-python",
   "name": "python",
   "nbconvert_exporter": "python",
   "pygments_lexer": "ipython3",
   "version": "3.7.1"
  }
 },
 "nbformat": 4,
 "nbformat_minor": 2
}
