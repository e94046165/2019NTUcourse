{
 "cells": [
  {
   "cell_type": "code",
   "execution_count": 5,
   "metadata": {},
   "outputs": [],
   "source": [
    "import numpy as np\n",
    "import random\n",
    "from matplotlib import pyplot as plt\n",
    "file1 = open(\"hw1_7_train\",\"r\")\n",
    "line = \"start\"\n",
    "x = []\n",
    "\n",
    "while 1:\n",
    "    line = file1.readline()\n",
    "    if not line:\n",
    "        break\n",
    "    line = line.replace('\\t',' ')\n",
    "    line = line.replace('\\n','')\n",
    "    line = line.split(\" \")\n",
    "    x.append([1]+[float(j) for j in line ])# 1 for x0\n",
    "file1.close()\n",
    "\n",
    "file1 = open(\"hw1_7_test\",\"r\")\n",
    "line = \"start\"\n",
    "\n",
    "x_test = []\n",
    "\n",
    "while 1:\n",
    "    line = file1.readline()\n",
    "    if not line:\n",
    "        break\n",
    "    line = line.replace('\\t',' ')\n",
    "    line = line.replace('\\n','')\n",
    "    line = line.split(\" \")\n",
    "    x_test.append([1]+[float(j) for j in line ])# 1 for x0\n",
    "file1.close()"
   ]
  },
  {
   "cell_type": "code",
   "execution_count": 73,
   "metadata": {},
   "outputs": [],
   "source": [
    "def pla_pocket(dataset, iteration):\n",
    "    order = []\n",
    "    for i in range(len(dataset)):\n",
    "        order.append(i)\n",
    "    \n",
    "    random.shuffle(order)\n",
    "    update = 0\n",
    "    w_best = [0, 0, 0, 0, 0]\n",
    "    w_tmp = w_best\n",
    "    err_w = len(dataset)\n",
    "    while update < iteration:\n",
    "        change = 0\n",
    "        for i in order:\n",
    "            Y = np.dot(w_tmp, dataset[i][:len(w_best)])\n",
    "            if np.sign(Y) != dataset[i][-1]:\n",
    "                for k in range(len(w_best)):\n",
    "                    w_tmp[k] += dataset[i][-1]*dataset[i][k]\n",
    "                change = 1\n",
    "                update += 1\n",
    "                err_wtmp = 0\n",
    "                for j in range(len(dataset)):\n",
    "                    if np.sign(np.dot(w_tmp, dataset[j][:len(w_best)])) != dataset[j][-1]:\n",
    "                        err_wtmp += 1\n",
    "                #print(err_w, err_wtmp)\n",
    "                if err_wtmp < err_w:\n",
    "                    w_best = w_tmp.copy()#why this copy() metters?\n",
    "                    err_w = err_wtmp\n",
    "                    #print(\"change!\")\n",
    "            if update == iteration:\n",
    "                break\n",
    "        if change == 0:\n",
    "            print(\"Only update:\", update, \"times, finished\")\n",
    "            break\n",
    "    #print(w_best == w_tmp)\n",
    "    return w_best"
   ]
  },
  {
   "cell_type": "code",
   "execution_count": 75,
   "metadata": {},
   "outputs": [],
   "source": [
    "def err_rate(dataset, w):\n",
    "    err = 0\n",
    "    for i in range(len(dataset)):\n",
    "        if np.sign(np.dot(w, dataset[i][:len(w)])) != dataset[i][-1]:\n",
    "            err += 1\n",
    "    return err/len(dataset)"
   ]
  },
  {
   "cell_type": "code",
   "execution_count": 77,
   "metadata": {},
   "outputs": [
    {
     "name": "stdout",
     "output_type": "stream",
     "text": [
      "0.11443339253996448\n"
     ]
    }
   ],
   "source": [
    "record = []\n",
    "for i in range(1126):\n",
    "    w = pla_pocket(x, 100)\n",
    "    record.append(err_rate(x_test, w))\n",
    "print(np.mean(record))"
   ]
  },
  {
   "cell_type": "code",
   "execution_count": 93,
   "metadata": {},
   "outputs": [
    {
     "data": {
      "image/png": "[encoded data removed]",
      "text/plain": [
       "<Figure size 432x288 with 1 Axes>"
      ]
     },
     "metadata": {
      "needs_background": "light"
     },
     "output_type": "display_data"
    }
   ],
   "source": [
    "plt.hist(record, [i*0.01 for i in range(0, 50, 1)])\n",
    "plt.savefig(\"histogram_7.png\",format=\"png\")"
   ]
  }
 ],
 "metadata": {
  "kernelspec": {
   "display_name": "Python 3",
   "language": "python",
   "name": "python3"
  },
  "language_info": {
   "codemirror_mode": {
    "name": "ipython",
    "version": 3
   },
   "file_extension": ".py",
   "mimetype": "text/x-python",
   "name": "python",
   "nbconvert_exporter": "python",
   "pygments_lexer": "ipython3",
   "version": "3.7.1"
  }
 },
 "nbformat": 4,
 "nbformat_minor": 2
}
