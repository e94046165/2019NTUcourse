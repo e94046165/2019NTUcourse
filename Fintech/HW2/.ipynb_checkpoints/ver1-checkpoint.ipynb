{
 "cells": [
  {
   "cell_type": "code",
   "execution_count": 35,
   "metadata": {},
   "outputs": [],
   "source": [
    "import sys\n",
    "import numpy as np\n",
    "import pandas as pd\n",
    "from myStrategy import myStrategy\n",
    "\n",
    "def computeReturnRate(priceVec, stockType):\n",
    "    capital=1000\n",
    "    capitalOrig=capital\n",
    "    dataCount=len(priceVec)\n",
    "    suggestedAction=np.zeros((dataCount,1))\n",
    "    stockHolding=np.zeros((dataCount,1))\n",
    "    total=np.zeros((dataCount,1))\n",
    "    realAction=np.zeros((dataCount,1))\n",
    "    for ic in range(dataCount):\n",
    "        currentPrice=priceVec[ic]\n",
    "        suggestedAction[ic]=myStrategy(priceVec[0:ic], currentPrice, stockType)\n",
    "        if ic>0:\n",
    "            stockHolding[ic]=stockHolding[ic-1]\n",
    "        if suggestedAction[ic]==1:\n",
    "            if stockHolding[ic]==0:\n",
    "                stockHolding[ic]=capital/currentPrice\n",
    "                capital=0\n",
    "                realAction[ic]=1\n",
    "        elif suggestedAction[ic]==-1:\n",
    "            if stockHolding[ic]>0:\n",
    "                capital=stockHolding[ic]*currentPrice\n",
    "                stockHolding[ic]=0\n",
    "                realAction[ic]=-1\n",
    "        elif suggestedAction[ic]==0:\n",
    "            realAction[ic]=0\n",
    "        else:\n",
    "            assert False\n",
    "        total[ic]=capital+stockHolding[ic]*currentPrice\n",
    "    returnRate=(total[-1]-capitalOrig)/capitalOrig\n",
    "    return returnRate\n"
   ]
  },
  {
   "cell_type": "code",
   "execution_count": 36,
   "metadata": {},
   "outputs": [
    {
     "name": "stdout",
     "output_type": "stream",
     "text": [
      "IAU : rr=2.512694\n"
     ]
    }
   ],
   "source": [
    "file = \"IAU.csv\"\n",
    "df=pd.read_csv(\"IAU.csv\")\n",
    "adjClose=df[\"Adj Close\"].values\n",
    "stockType=file[-7:-4]\n",
    "rr=computeReturnRate(adjClose, stockType)\n",
    "print(stockType, ':',\"rr=%f\" %(rr))"
   ]
  }
 ],
 "metadata": {
  "kernelspec": {
   "display_name": "Python 3",
   "language": "python",
   "name": "python3"
  },
  "language_info": {
   "codemirror_mode": {
    "name": "ipython",
    "version": 3
   },
   "file_extension": ".py",
   "mimetype": "text/x-python",
   "name": "python",
   "nbconvert_exporter": "python",
   "pygments_lexer": "ipython3",
   "version": "3.7.1"
  }
 },
 "nbformat": 4,
 "nbformat_minor": 2
}
