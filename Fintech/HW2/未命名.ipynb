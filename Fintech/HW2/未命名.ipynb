{
 "cells": [
  {
   "cell_type": "code",
   "execution_count": 4,
   "metadata": {},
   "outputs": [],
   "source": [
    "\tparamSetting={'SPY': [{'high':87, 'low':40, 'windowSize':20},{'high':87, 'low':40, 'windowSize':20}],\n",
    "\t\t\t\t\t'IAU': {'high':83, 'low':41, 'windowSize':25},\n",
    "\t\t\t\t\t'LQD': {'high':98, 'low':44, 'windowSize':9},\n",
    "\t\t\t\t\t'DSI': {'high':85, 'low':42, 'windowSize':20}}"
   ]
  },
  {
   "cell_type": "code",
   "execution_count": 9,
   "metadata": {},
   "outputs": [
    {
     "name": "stdout",
     "output_type": "stream",
     "text": [
      "87\n"
     ]
    }
   ],
   "source": [
    "print((paramSetting['SPY'][0]['high']))"
   ]
  },
  {
   "cell_type": "code",
   "execution_count": 15,
   "metadata": {},
   "outputs": [
    {
     "name": "stdout",
     "output_type": "stream",
     "text": [
      "'high':\n"
     ]
    }
   ],
   "source": [
    "print('\\'high\\':')"
   ]
  },
  {
   "cell_type": "code",
   "execution_count": 17,
   "metadata": {},
   "outputs": [
    {
     "name": "stdout",
     "output_type": "stream",
     "text": [
      "15\n"
     ]
    },
    {
     "ename": "KeyboardInterrupt",
     "evalue": "",
     "output_type": "error",
     "traceback": [
      "\u001b[0;31m---------------------------------------------------------------------------\u001b[0m",
      "\u001b[0;31mKeyboardInterrupt\u001b[0m                         Traceback (most recent call last)",
      "\u001b[0;32m<ipython-input-17-e7c4f392bc95>\u001b[0m in \u001b[0;36m<module>\u001b[0;34m\u001b[0m\n\u001b[1;32m     87\u001b[0m                         \u001b[0;32mfor\u001b[0m \u001b[0mbeta\u001b[0m \u001b[0;32min\u001b[0m \u001b[0mrange\u001b[0m\u001b[0;34m(\u001b[0m\u001b[0mbetaMin\u001b[0m\u001b[0;34m,\u001b[0m \u001b[0mbetaMax\u001b[0m\u001b[0;34m+\u001b[0m\u001b[0;36m1\u001b[0m\u001b[0;34m)\u001b[0m\u001b[0;34m:\u001b[0m          \u001b[0;31m# For-loop for beta\u001b[0m\u001b[0;34m\u001b[0m\u001b[0;34m\u001b[0m\u001b[0m\n\u001b[1;32m     88\u001b[0m                                 \u001b[0;31m#print(\"\\t\\tbeta=%d\" %(beta), end=\"\")   # No newline\u001b[0m\u001b[0;34m\u001b[0m\u001b[0;34m\u001b[0m\u001b[0;34m\u001b[0m\u001b[0m\n\u001b[0;32m---> 89\u001b[0;31m                                 \u001b[0mreturnRate\u001b[0m\u001b[0;34m=\u001b[0m\u001b[0mcomputeReturnRate\u001b[0m\u001b[0;34m(\u001b[0m\u001b[0madjClose\u001b[0m\u001b[0;34m,\u001b[0m \u001b[0mwindowSize\u001b[0m\u001b[0;34m,\u001b[0m \u001b[0malpha\u001b[0m\u001b[0;34m,\u001b[0m \u001b[0mbeta\u001b[0m\u001b[0;34m)\u001b[0m         \u001b[0;31m# Start the whole run with the given parameters\u001b[0m\u001b[0;34m\u001b[0m\u001b[0;34m\u001b[0m\u001b[0m\n\u001b[0m\u001b[1;32m     90\u001b[0m                                 \u001b[0;31m#print(\" ==> returnRate=%f \" %(returnRate))\u001b[0m\u001b[0;34m\u001b[0m\u001b[0;34m\u001b[0m\u001b[0;34m\u001b[0m\u001b[0m\n\u001b[1;32m     91\u001b[0m                                 \u001b[0;32mif\u001b[0m \u001b[0mreturnRate\u001b[0m \u001b[0;34m>\u001b[0m \u001b[0mreturnRateBest\u001b[0m\u001b[0;34m:\u001b[0m         \u001b[0;31m# Keep the best parameters\u001b[0m\u001b[0;34m\u001b[0m\u001b[0;34m\u001b[0m\u001b[0m\n",
      "\u001b[0;32m<ipython-input-17-e7c4f392bc95>\u001b[0m in \u001b[0;36mcomputeReturnRate\u001b[0;34m(priceVec, windowSize, high, low)\u001b[0m\n\u001b[1;32m     44\u001b[0m         \u001b[0;32mfor\u001b[0m \u001b[0mic\u001b[0m \u001b[0;32min\u001b[0m \u001b[0mrange\u001b[0m\u001b[0;34m(\u001b[0m\u001b[0mdataCount\u001b[0m\u001b[0;34m)\u001b[0m\u001b[0;34m:\u001b[0m\u001b[0;34m\u001b[0m\u001b[0;34m\u001b[0m\u001b[0m\n\u001b[1;32m     45\u001b[0m                 \u001b[0mcurrentPrice\u001b[0m\u001b[0;34m=\u001b[0m\u001b[0mpriceVec\u001b[0m\u001b[0;34m[\u001b[0m\u001b[0mic\u001b[0m\u001b[0;34m]\u001b[0m       \u001b[0;31m# current price\u001b[0m\u001b[0;34m\u001b[0m\u001b[0;34m\u001b[0m\u001b[0m\n\u001b[0;32m---> 46\u001b[0;31m                 \u001b[0msuggestedAction\u001b[0m\u001b[0;34m[\u001b[0m\u001b[0mic\u001b[0m\u001b[0;34m]\u001b[0m\u001b[0;34m=\u001b[0m\u001b[0mmyStrategy\u001b[0m\u001b[0;34m(\u001b[0m\u001b[0mpriceVec\u001b[0m\u001b[0;34m[\u001b[0m\u001b[0;36m0\u001b[0m\u001b[0;34m:\u001b[0m\u001b[0mic\u001b[0m\u001b[0;34m]\u001b[0m\u001b[0;34m,\u001b[0m \u001b[0mcurrentPrice\u001b[0m\u001b[0;34m,\u001b[0m \u001b[0mwindowSize\u001b[0m\u001b[0;34m,\u001b[0m \u001b[0mhigh\u001b[0m\u001b[0;34m,\u001b[0m \u001b[0mlow\u001b[0m\u001b[0;34m)\u001b[0m             \u001b[0;31m# Obtain the suggested action\u001b[0m\u001b[0;34m\u001b[0m\u001b[0;34m\u001b[0m\u001b[0m\n\u001b[0m\u001b[1;32m     47\u001b[0m                 \u001b[0;31m# get real action by suggested action\u001b[0m\u001b[0;34m\u001b[0m\u001b[0;34m\u001b[0m\u001b[0;34m\u001b[0m\u001b[0m\n\u001b[1;32m     48\u001b[0m                 \u001b[0;32mif\u001b[0m \u001b[0mic\u001b[0m\u001b[0;34m>\u001b[0m\u001b[0;36m0\u001b[0m\u001b[0;34m:\u001b[0m\u001b[0;34m\u001b[0m\u001b[0;34m\u001b[0m\u001b[0m\n",
      "\u001b[0;32m<ipython-input-17-e7c4f392bc95>\u001b[0m in \u001b[0;36mmyStrategy\u001b[0;34m(pastPriceVec, currentPrice, windowSize, high, low)\u001b[0m\n\u001b[1;32m     24\u001b[0m     \u001b[0;32mif\u001b[0m \u001b[0mdataLen\u001b[0m \u001b[0;34m<\u001b[0m \u001b[0mwindowSize\u001b[0m\u001b[0;34m:\u001b[0m\u001b[0;34m\u001b[0m\u001b[0;34m\u001b[0m\u001b[0m\n\u001b[1;32m     25\u001b[0m         \u001b[0mwindowSize\u001b[0m \u001b[0;34m=\u001b[0m \u001b[0mdataLen\u001b[0m\u001b[0;34m\u001b[0m\u001b[0;34m\u001b[0m\u001b[0m\n\u001b[0;32m---> 26\u001b[0;31m     \u001b[0mrsi\u001b[0m \u001b[0;34m=\u001b[0m \u001b[0mRSI\u001b[0m\u001b[0;34m(\u001b[0m\u001b[0mpastPriceVec\u001b[0m\u001b[0;34m,\u001b[0m \u001b[0mwindowSize\u001b[0m\u001b[0;34m)\u001b[0m\u001b[0;34m\u001b[0m\u001b[0;34m\u001b[0m\u001b[0m\n\u001b[0m\u001b[1;32m     27\u001b[0m     \u001b[0;32mif\u001b[0m \u001b[0;36m50\u001b[0m \u001b[0;34m<\u001b[0m \u001b[0mrsi\u001b[0m \u001b[0;34m<\u001b[0m \u001b[0mhigh\u001b[0m \u001b[0;32mor\u001b[0m \u001b[0mrsi\u001b[0m \u001b[0;34m<\u001b[0m \u001b[0mlow\u001b[0m\u001b[0;34m:\u001b[0m\u001b[0;34m\u001b[0m\u001b[0;34m\u001b[0m\u001b[0m\n\u001b[1;32m     28\u001b[0m         \u001b[0maction\u001b[0m \u001b[0;34m=\u001b[0m \u001b[0;36m1\u001b[0m\u001b[0;34m\u001b[0m\u001b[0;34m\u001b[0m\u001b[0m\n",
      "\u001b[0;32m<ipython-input-17-e7c4f392bc95>\u001b[0m in \u001b[0;36mRSI\u001b[0;34m(pastPriceVec, windowSize)\u001b[0m\n\u001b[1;32m      4\u001b[0m \u001b[0;32mdef\u001b[0m \u001b[0mRSI\u001b[0m\u001b[0;34m(\u001b[0m\u001b[0mpastPriceVec\u001b[0m\u001b[0;34m,\u001b[0m \u001b[0mwindowSize\u001b[0m\u001b[0;34m)\u001b[0m\u001b[0;34m:\u001b[0m\u001b[0;34m\u001b[0m\u001b[0;34m\u001b[0m\u001b[0m\n\u001b[1;32m      5\u001b[0m     \u001b[0mup_down\u001b[0m \u001b[0;34m=\u001b[0m \u001b[0mnp\u001b[0m\u001b[0;34m.\u001b[0m\u001b[0mzeros\u001b[0m\u001b[0;34m(\u001b[0m\u001b[0mwindowSize\u001b[0m\u001b[0;34m)\u001b[0m\u001b[0;34m\u001b[0m\u001b[0;34m\u001b[0m\u001b[0m\n\u001b[0;32m----> 6\u001b[0;31m     \u001b[0;32mfor\u001b[0m \u001b[0mi\u001b[0m \u001b[0;32min\u001b[0m \u001b[0mrange\u001b[0m\u001b[0;34m(\u001b[0m\u001b[0;36m1\u001b[0m\u001b[0;34m,\u001b[0m\u001b[0mwindowSize\u001b[0m\u001b[0;34m)\u001b[0m\u001b[0;34m:\u001b[0m\u001b[0;34m\u001b[0m\u001b[0;34m\u001b[0m\u001b[0m\n\u001b[0m\u001b[1;32m      7\u001b[0m         \u001b[0mup_down\u001b[0m\u001b[0;34m[\u001b[0m\u001b[0mi\u001b[0m\u001b[0;34m]\u001b[0m \u001b[0;34m=\u001b[0m \u001b[0mpastPriceVec\u001b[0m\u001b[0;34m[\u001b[0m\u001b[0;34m-\u001b[0m\u001b[0mwindowSize\u001b[0m \u001b[0;34m+\u001b[0m \u001b[0mi\u001b[0m\u001b[0;34m]\u001b[0m \u001b[0;34m-\u001b[0m \u001b[0mpastPriceVec\u001b[0m\u001b[0;34m[\u001b[0m\u001b[0;34m-\u001b[0m\u001b[0mwindowSize\u001b[0m \u001b[0;34m+\u001b[0m \u001b[0mi\u001b[0m \u001b[0;34m-\u001b[0m \u001b[0;36m1\u001b[0m\u001b[0;34m]\u001b[0m\u001b[0;34m\u001b[0m\u001b[0;34m\u001b[0m\u001b[0m\n\u001b[1;32m      8\u001b[0m     \u001b[0mrsi\u001b[0m \u001b[0;34m=\u001b[0m \u001b[0mup\u001b[0m \u001b[0;34m=\u001b[0m \u001b[0mdown\u001b[0m \u001b[0;34m=\u001b[0m \u001b[0;36m0\u001b[0m\u001b[0;34m\u001b[0m\u001b[0;34m\u001b[0m\u001b[0m\n",
      "\u001b[0;31mKeyboardInterrupt\u001b[0m: "
     ]
    }
   ],
   "source": [
    "import sys\n",
    "import numpy as np\n",
    "import pandas as pd\n",
    "def RSI(pastPriceVec, windowSize):\n",
    "    up_down = np.zeros(windowSize)\n",
    "    for i in range(1,windowSize):\n",
    "        up_down[i] = pastPriceVec[-windowSize + i] - pastPriceVec[-windowSize + i - 1]\n",
    "    rsi = up = down = 0\n",
    "    for i in up_down:\n",
    "        if i > 0:\n",
    "            up += i\n",
    "        else:\n",
    "            down -= i\n",
    "    if up + down != 0:\n",
    "        rsi = up/(up + down) * 100\n",
    "    return rsi\n",
    "# Search for 3 modifiable parameters in RSI(windowSize, high, low,)\n",
    "def myStrategy(pastPriceVec, currentPrice, windowSize, high, low):\n",
    "    action = 0\n",
    "    dataLen = len(pastPriceVec)\n",
    "    if dataLen == 0:\n",
    "        return 0\n",
    "    \n",
    "    if dataLen < windowSize:\n",
    "        windowSize = dataLen\n",
    "    rsi = RSI(pastPriceVec, windowSize)\n",
    "    if 50 < rsi < high or rsi < low:\n",
    "        action = 1\n",
    "    elif low < rsi < 50 or rsi > high:\n",
    "        action = -1\n",
    "    else:\n",
    "        action = 0\n",
    "    return action\n",
    "# Compute return rate over a given price vector, with 3 modifiable parameters\n",
    "def computeReturnRate(priceVec, windowSize, high, low):\n",
    "\tcapital=1000\t# Initial available capital\n",
    "\tcapitalOrig=capital\t # original capital\n",
    "\tdataCount=len(priceVec)\t\t\t\t# day size\n",
    "\tsuggestedAction=np.zeros((dataCount,1))\t# Vec of suggested actions\n",
    "\tstockHolding=np.zeros((dataCount,1))  \t# Vec of stock holdings\n",
    "\ttotal=np.zeros((dataCount,1))\t \t# Vec of total asset\n",
    "\trealAction=np.zeros((dataCount,1))\t# Real action, which might be different from suggested action. For instance, when the suggested action is 1 (buy) but you don't have any capital, then the real action is 0 (hold, or do nothing). \n",
    "\t# Run through each day\n",
    "\tfor ic in range(dataCount):\n",
    "\t\tcurrentPrice=priceVec[ic]\t# current price\n",
    "\t\tsuggestedAction[ic]=myStrategy(priceVec[0:ic], currentPrice, windowSize, high, low)\t\t# Obtain the suggested action\n",
    "\t\t# get real action by suggested action\n",
    "\t\tif ic>0:\n",
    "\t\t\tstockHolding[ic]=stockHolding[ic-1]\t# The stock holding from the previous day\n",
    "\t\tif suggestedAction[ic]==1:\t# Suggested action is \"buy\"\n",
    "\t\t\tif stockHolding[ic]==0:\t\t# \"buy\" only if you don't have stock holding\n",
    "\t\t\t\tstockHolding[ic]=capital/currentPrice # Buy stock using cash\n",
    "\t\t\t\tcapital=0\t# Cash\n",
    "\t\t\t\trealAction[ic]=1\n",
    "\t\telif suggestedAction[ic]==-1:\t# Suggested action is \"sell\"\n",
    "\t\t\tif stockHolding[ic]>0:\t\t# \"sell\" only if you have stock holding\n",
    "\t\t\t\tcapital=stockHolding[ic]*currentPrice # Sell stock to have cash\n",
    "\t\t\t\tstockHolding[ic]=0\t# Stocking holding\n",
    "\t\t\t\trealAction[ic]=-1\n",
    "\t\telif suggestedAction[ic]==0:\t# No action\n",
    "\t\t\trealAction[ic]=0\n",
    "\t\telse:\n",
    "\t\t\tassert False\n",
    "\t\ttotal[ic]=capital+stockHolding[ic]*currentPrice\t# Total asset, including stock holding and cash \n",
    "\treturnRate=(total[-1]-capitalOrig)/capitalOrig\t\t# Return rate of this run\n",
    "\treturn returnRate\n",
    "\n",
    "returnRateBest=-1.00\t # Initial best return rate\n",
    "df = pd.read_csv('IAU.csv')\t# read stock file\n",
    "adjCloseAll = df[\"Adj Close\"].values\t\t# get adj close as the price vector\n",
    "windowSizeMin = 10; windowSizeMax = 20;\t# Range of windowSize to explore\n",
    "alphaMin = 60; alphaMax = 80;\t\t\t# Range of alpha to explore\n",
    "betaMin = 10; betaMax = 45\t\t\t\t# Range of beta to explore\n",
    "# Start exhaustive search\n",
    "N = len(adjCloseAll)//240\n",
    "print(N)\n",
    "for j in range(N+1):\n",
    "\treturnRateBest=-1.00\n",
    "\tif len(adjCloseAll) >= len(adjCloseAll)//10*(j+1):\n",
    "\t\tadjClose = adjCloseAll[240 * j: 240 *(j+1)]\n",
    "\telse:\n",
    "\t\tadjClose = adjCloseAll[240 * j: ]\n",
    "\tfor windowSize in range(windowSizeMin, windowSizeMax+1):\t\t# For-loop for windowSize\n",
    "\t\t#print(\"windowSize=%d\" %(windowSize))\n",
    "\t\tfor alpha in range(alphaMin, alphaMax+1):\t    \t# For-loop for alpha\n",
    "\t\t\t#print(\"\\talpha=%d\" %(alpha))\n",
    "\t\t\tfor beta in range(betaMin, betaMax+1):\t\t# For-loop for beta\n",
    "\t\t\t\t#print(\"\\t\\tbeta=%d\" %(beta), end=\"\")\t# No newline\n",
    "\t\t\t\treturnRate=computeReturnRate(adjClose, windowSize, alpha, beta)\t\t# Start the whole run with the given parameters\n",
    "\t\t\t\t#print(\" ==> returnRate=%f \" %(returnRate))\n",
    "\t\t\t\tif returnRate > returnRateBest:\t\t# Keep the best parameters\n",
    "\t\t\t\t\twindowSizeBest=windowSize\n",
    "\t\t\t\t\talphaBest=alpha\n",
    "\t\t\t\t\tbetaBest=beta\n",
    "\t\t\t\t\treturnRateBest=returnRate\n",
    "\tprint('{','\\'high\\':', alphaBest, ',', '\\'low\\':', betaBest,',', '\\'windowSize\\':', windowSizeBest,'},')    \n"
   ]
  }
 ],
 "metadata": {
  "kernelspec": {
   "display_name": "Python 3",
   "language": "python",
   "name": "python3"
  },
  "language_info": {
   "codemirror_mode": {
    "name": "ipython",
    "version": 3
   },
   "file_extension": ".py",
   "mimetype": "text/x-python",
   "name": "python",
   "nbconvert_exporter": "python",
   "pygments_lexer": "ipython3",
   "version": "3.7.1"
  }
 },
 "nbformat": 4,
 "nbformat_minor": 2
}
