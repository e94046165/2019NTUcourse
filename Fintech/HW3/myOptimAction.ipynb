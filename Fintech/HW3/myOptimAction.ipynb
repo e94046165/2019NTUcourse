{
 "cells": [
  {
   "cell_type": "code",
   "execution_count": 3,
   "metadata": {
    "scrolled": false
   },
   "outputs": [
    {
     "name": "stdout",
     "output_type": "stream",
     "text": [
      "0.0\n",
      "0.0\n",
      "0.0\n",
      "0.0\n",
      "rr=40629753.000000\n"
     ]
    }
   ],
   "source": [
    "import numpy as np\n",
    "\n",
    "def myOptimAction(priceMat, transFeeRate):\n",
    "    # Explanation of my approach:\n",
    "    # Using DP to find the optimal solution\n",
    "    # Def: stockMaxHolding[day][stock] = max(stockMaxHolding[day - 1][stock] \n",
    "    #                                     ,cash[day-1]*(1 - transFeeRate)/priceMat[day][stock])\n",
    "    #      Maxcash[day] = max(for stock in range(stockCount):\n",
    "    #                           stockMaxHolding[day-1][stock]*(1 - transFeeRate)*priceMat[day][stock]),\n",
    "    #                       , Maxcash[day - 1])\n",
    "    hold = 0\n",
    "    nextDay = 1\n",
    "    dataLen, stockCount = priceMat.shape  # day size & stock count   \n",
    "    #print(dataLen)\n",
    "    cashMax = np.zeros(dataLen-1)\n",
    "    cash = 1000\n",
    "    cashMax[0] = 1000\n",
    "    stockMaxHolding = np.zeros((dataLen,stockCount))  # Mat of stock holdings\n",
    "\n",
    "    actionMat = []  # An k-by-4 action matrix which holds k transaction records.\n",
    "    # user definition\n",
    "    keep = -1\n",
    "    hold = -1\n",
    "    past_hold = -1\n",
    "    for day in range(dataLen - nextDay):\n",
    "        action = []\n",
    "        if day > 0:\n",
    "            cash_best = cashMax[day-1]\n",
    "            hold = -1\n",
    "            for stock in range(stockCount):\n",
    "                if cash_best < stockMaxHolding[day-1][stock]*(1 - transFeeRate)*priceMat[day][stock]:\n",
    "                    cash_best = stockMaxHolding[day-1][stock]*(1 - transFeeRate)*priceMat[day][stock]\n",
    "                    hold = stock\n",
    "            cashMax[day] = cash_best    \n",
    "            for stock in range(stockCount):   \n",
    "                if stockMaxHolding[day - 1][stock] < cashMax[day]*(1 - transFeeRate)/priceMat[day][stock]:\n",
    "                    stockMaxHolding[day][stock] = cashMax[day]*(1 - transFeeRate)/priceMat[day][stock]\n",
    "                else:\n",
    "                    stockMaxHolding[day][stock] = stockMaxHolding[day - 1][stock]\n",
    "    day = dataLen - 2\n",
    "    while day != 0:\n",
    "        hold = -1\n",
    "        #sell\n",
    "        while True:\n",
    "            if cashMax[day] != cashMax[day - 1]:\n",
    "                break\n",
    "            else:\n",
    "                day -= 1\n",
    "        if day > 0:\n",
    "            for stock in range(stockCount):\n",
    "                if stockMaxHolding[day-1][stock]*(1 - transFeeRate)*priceMat[day][stock] == cashMax[day]:\n",
    "                    action = [day, stock, -1, stockMaxHolding[day][stock] * priceMat[day][stock]]\n",
    "                    actionMat = [action] + actionMat\n",
    "                    hold = stock\n",
    "                    break\n",
    "            #print(\"sell\", hold, day)\n",
    "        #buy\n",
    "        while True:\n",
    "            if stockMaxHolding[day][hold] != stockMaxHolding[day-1][hold]:\n",
    "                break\n",
    "            else:\n",
    "                if day == 0:\n",
    "                    break\n",
    "                day -= 1\n",
    "        if day > 0:\n",
    "            action = [day, -1, hold, cashMax[day]]\n",
    "            actionMat = [action] + actionMat\n",
    "    return actionMat\n",
    "\n",
    "import sys\n",
    "import numpy as np\n",
    "import pandas as pd\n",
    "# Compute return rate over a given price Matrix & action Matrix\n",
    "from rrEstimateOpen import computeReturnRate\n",
    "if __name__ == \"__main__\":\n",
    "\tfile = \"priceMat.txt\"\t  # input file\n",
    "\tdf = pd.read_csv(file, delimiter=' ')\n",
    "\ttransFeeRate= 0.01\t# Rate for transaction fee\n",
    "\tpriceMat = df.values\t# Get price as the m×n matrix which holds n stocks' price over m days\n",
    "\tactionMat = myOptimAction(priceMat, transFeeRate)\t# Obtain the suggested action\n",
    "\trr = computeReturnRate(priceMat, transFeeRate, actionMat)  # Compute return rate\n",
    "\tprint(\"rr=%f\" %(rr//1000))"
   ]
  },
  {
   "cell_type": "code",
   "execution_count": null,
   "metadata": {},
   "outputs": [],
   "source": []
  },
  {
   "cell_type": "code",
   "execution_count": null,
   "metadata": {},
   "outputs": [],
   "source": []
  }
 ],
 "metadata": {
  "kernelspec": {
   "display_name": "Python 3",
   "language": "python",
   "name": "python3"
  },
  "language_info": {
   "codemirror_mode": {
    "name": "ipython",
    "version": 3
   },
   "file_extension": ".py",
   "mimetype": "text/x-python",
   "name": "python",
   "nbconvert_exporter": "python",
   "pygments_lexer": "ipython3",
   "version": "3.6.8"
  }
 },
 "nbformat": 4,
 "nbformat_minor": 2
}
