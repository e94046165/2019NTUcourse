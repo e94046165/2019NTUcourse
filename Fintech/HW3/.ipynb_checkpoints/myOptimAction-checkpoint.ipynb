{
 "cells": [
  {
   "cell_type": "code",
   "execution_count": 25,
   "metadata": {},
   "outputs": [],
   "source": [
    "import numpy as np\n",
    "\n",
    "def myOptimAction(priceMat, transFeeRate):\n",
    "    # Explanation of my approach:\n",
    "    # Using DP to find the optimal solution\n",
    "    # Def: stockHolding[day][stock] = max(stockHolding[day - 1][stock] \n",
    "    #                                     ,cash[day-1]*(1 - transFeeRate)/priceMat[day][stock])\n",
    "    #      cash[day] = max(for stock in range(stockCount):\n",
    "    #                           stockHolding[day-1][stock]*(1 - transFeeRate)*priceMat[day][stock]),\n",
    "    #                       , cash[day - 1])\n",
    "    hold = 0\n",
    "    nextDay = 1\n",
    "    dataLen, stockCount = priceMat.shape  # day size & stock count   \n",
    "    print(priceMat.shape)\n",
    "    cash = np.zeros(dataLen)\n",
    "    cash[0] = 1000\n",
    "    stockHolding = np.zeros((dataLen,stockCount))  # Mat of stock holdings\n",
    "    actionMat = []  # An k-by-4 action matrix which holds k transaction records.\n",
    "    # user definition\n",
    "    for day in range(dataLen - nextDay):\n",
    "        dayPrices = priceMat[day]  # Today price of each stock\n",
    "        nextDayPrices = priceMat[ day + nextDay ]  # Next day price of each stock\n",
    "        if day > 0:\n",
    "            buyStock = -1\n",
    "            sellstock = -1\n",
    "            cash_best = cash[day-1]\n",
    "            for stock in range(stockCount):\n",
    "                if stockHolding[day - 1][stock] < cash[day-1]*(1 - transFeeRate)/priceMat[day][stock]:\n",
    "                    stockHolding[day][stock] = cash[day-1]*(1 - transFeeRate)/priceMat[day][stock]\n",
    "                else:\n",
    "                    stockHolding[day][stock] = stockHolding[day - 1][stock]\n",
    "                if cash_best < stockHolding[day-1][stock]*(1 - transFeeRate)*priceMat[day][stock]:\n",
    "                    cash_best = stockHolding[day-1][stock]*(1 - transFeeRate)*priceMat[day][stock]\n",
    "                    buyStock = stock\n",
    "            if buyStock != -1:\n",
    "                for i in range(day, 0, -1):\n",
    "                    if stockHolding[i][stock] != stockHolding[day][stock]:\n",
    "                        actionMat = [[i, -1, buyStock, cash[i-1]]] + actionMat\n",
    "                        break\n",
    "            cash[day] = cash_best\n",
    "        \n",
    "    return actionMat"
   ]
  },
  {
   "cell_type": "code",
   "execution_count": 26,
   "metadata": {},
   "outputs": [
    {
     "name": "stdout",
     "output_type": "stream",
     "text": [
      "(3236, 4)\n",
      "0.0\n"
     ]
    },
    {
     "ename": "AssertionError",
     "evalue": "",
     "output_type": "error",
     "traceback": [
      "\u001b[0;31m---------------------------------------------------------------------------\u001b[0m",
      "\u001b[0;31mAssertionError\u001b[0m                            Traceback (most recent call last)",
      "\u001b[0;32m<ipython-input-26-793ae7dc9060>\u001b[0m in \u001b[0;36m<module>\u001b[0;34m\u001b[0m\n\u001b[1;32m     10\u001b[0m         \u001b[0mpriceMat\u001b[0m \u001b[0;34m=\u001b[0m \u001b[0mdf\u001b[0m\u001b[0;34m.\u001b[0m\u001b[0mvalues\u001b[0m    \u001b[0;31m# Get price as the m×n matrix which holds n stocks' price over m days\u001b[0m\u001b[0;34m\u001b[0m\u001b[0;34m\u001b[0m\u001b[0m\n\u001b[1;32m     11\u001b[0m         \u001b[0mactionMat\u001b[0m \u001b[0;34m=\u001b[0m \u001b[0mmyOptimAction\u001b[0m\u001b[0;34m(\u001b[0m\u001b[0mpriceMat\u001b[0m\u001b[0;34m,\u001b[0m \u001b[0mtransFeeRate\u001b[0m\u001b[0;34m)\u001b[0m       \u001b[0;31m# Obtain the suggested action\u001b[0m\u001b[0;34m\u001b[0m\u001b[0;34m\u001b[0m\u001b[0m\n\u001b[0;32m---> 12\u001b[0;31m         \u001b[0mrr\u001b[0m \u001b[0;34m=\u001b[0m \u001b[0mcomputeReturnRate\u001b[0m\u001b[0;34m(\u001b[0m\u001b[0mpriceMat\u001b[0m\u001b[0;34m,\u001b[0m \u001b[0mtransFeeRate\u001b[0m\u001b[0;34m,\u001b[0m \u001b[0mactionMat\u001b[0m\u001b[0;34m)\u001b[0m  \u001b[0;31m# Compute return rate\u001b[0m\u001b[0;34m\u001b[0m\u001b[0;34m\u001b[0m\u001b[0m\n\u001b[0m\u001b[1;32m     13\u001b[0m         \u001b[0mprint\u001b[0m\u001b[0;34m(\u001b[0m\u001b[0;34m\"rr=%f\"\u001b[0m \u001b[0;34m%\u001b[0m\u001b[0;34m(\u001b[0m\u001b[0mrr\u001b[0m\u001b[0;34m//\u001b[0m\u001b[0;36m100000000000\u001b[0m\u001b[0;34m)\u001b[0m\u001b[0;34m)\u001b[0m\u001b[0;34m\u001b[0m\u001b[0;34m\u001b[0m\u001b[0m\n",
      "\u001b[0;32m~/git/2019NTUcourse/Fintech/HW3/rrEstimateOpen.py\u001b[0m in \u001b[0;36mcomputeReturnRate\u001b[0;34m(priceMat, transFeeRate, actionMat)\u001b[0m\n\u001b[1;32m     60\u001b[0m                                 \u001b[0mrealAction\u001b[0m\u001b[0;34m[\u001b[0m\u001b[0mi\u001b[0m\u001b[0;34m]\u001b[0m \u001b[0;34m=\u001b[0m \u001b[0;36m2\u001b[0m\u001b[0;34m\u001b[0m\u001b[0;34m\u001b[0m\u001b[0m\n\u001b[1;32m     61\u001b[0m                         \u001b[0;32melse\u001b[0m\u001b[0;34m:\u001b[0m\u001b[0;34m\u001b[0m\u001b[0;34m\u001b[0m\u001b[0m\n\u001b[0;32m---> 62\u001b[0;31m                                 \u001b[0;32massert\u001b[0m \u001b[0;32mFalse\u001b[0m\u001b[0;34m\u001b[0m\u001b[0;34m\u001b[0m\u001b[0m\n\u001b[0m\u001b[1;32m     63\u001b[0m                 \u001b[0;32melse\u001b[0m\u001b[0;34m:\u001b[0m\u001b[0;34m\u001b[0m\u001b[0;34m\u001b[0m\u001b[0m\n\u001b[1;32m     64\u001b[0m                         \u001b[0;32massert\u001b[0m \u001b[0;32mFalse\u001b[0m\u001b[0;34m\u001b[0m\u001b[0;34m\u001b[0m\u001b[0m\n",
      "\u001b[0;31mAssertionError\u001b[0m: "
     ]
    }
   ],
   "source": [
    "import sys\n",
    "import numpy as np\n",
    "import pandas as pd\n",
    "# Compute return rate over a given price Matrix & action Matrix\n",
    "from rrEstimateOpen import computeReturnRate\n",
    "if __name__ == \"__main__\":\n",
    "\tfile = \"priceMat.txt\"\t  # input file\n",
    "\tdf = pd.read_csv(file, delimiter=' ')\n",
    "\ttransFeeRate= 0.01\t# Rate for transaction fee\n",
    "\tpriceMat = df.values\t# Get price as the m×n matrix which holds n stocks' price over m days\n",
    "\tactionMat = myOptimAction(priceMat, transFeeRate)\t# Obtain the suggested action\n",
    "\trr = computeReturnRate(priceMat, transFeeRate, actionMat)  # Compute return rate\n",
    "\tprint(\"rr=%f\" %(rr//100000000000))"
   ]
  },
  {
   "cell_type": "code",
   "execution_count": null,
   "metadata": {},
   "outputs": [],
   "source": []
  }
 ],
 "metadata": {
  "kernelspec": {
   "display_name": "Python 3",
   "language": "python",
   "name": "python3"
  },
  "language_info": {
   "codemirror_mode": {
    "name": "ipython",
    "version": 3
   },
   "file_extension": ".py",
   "mimetype": "text/x-python",
   "name": "python",
   "nbconvert_exporter": "python",
   "pygments_lexer": "ipython3",
   "version": "3.6.8"
  }
 },
 "nbformat": 4,
 "nbformat_minor": 2
}
