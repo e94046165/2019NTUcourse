{
 "cells": [
  {
   "cell_type": "code",
   "execution_count": 12,
   "metadata": {
    "scrolled": true
   },
   "outputs": [
    {
     "name": "stdout",
     "output_type": "stream",
     "text": [
      "(3236, 4)\n",
      "40629753185295.71\n"
     ]
    },
    {
     "ename": "IndexError",
     "evalue": "list index out of range",
     "output_type": "error",
     "traceback": [
      "\u001b[0;31m---------------------------------------------------------------------------\u001b[0m",
      "\u001b[0;31mIndexError\u001b[0m                                Traceback (most recent call last)",
      "\u001b[0;32m<ipython-input-12-3d4787c16463>\u001b[0m in \u001b[0;36m<module>\u001b[0;34m\u001b[0m\n\u001b[1;32m     54\u001b[0m         \u001b[0mpriceMat\u001b[0m \u001b[0;34m=\u001b[0m \u001b[0mdf\u001b[0m\u001b[0;34m.\u001b[0m\u001b[0mvalues\u001b[0m    \u001b[0;31m# Get price as the m×n matrix which holds n stocks' price over m days\u001b[0m\u001b[0;34m\u001b[0m\u001b[0;34m\u001b[0m\u001b[0m\n\u001b[1;32m     55\u001b[0m         \u001b[0mactionMat\u001b[0m \u001b[0;34m=\u001b[0m \u001b[0mmyOptimAction\u001b[0m\u001b[0;34m(\u001b[0m\u001b[0mpriceMat\u001b[0m\u001b[0;34m,\u001b[0m \u001b[0mtransFeeRate\u001b[0m\u001b[0;34m)\u001b[0m       \u001b[0;31m# Obtain the suggested action\u001b[0m\u001b[0;34m\u001b[0m\u001b[0;34m\u001b[0m\u001b[0m\n\u001b[0;32m---> 56\u001b[0;31m         \u001b[0mrr\u001b[0m \u001b[0;34m=\u001b[0m \u001b[0mcomputeReturnRate\u001b[0m\u001b[0;34m(\u001b[0m\u001b[0mpriceMat\u001b[0m\u001b[0;34m,\u001b[0m \u001b[0mtransFeeRate\u001b[0m\u001b[0;34m,\u001b[0m \u001b[0mactionMat\u001b[0m\u001b[0;34m)\u001b[0m  \u001b[0;31m# Compute return rate\u001b[0m\u001b[0;34m\u001b[0m\u001b[0;34m\u001b[0m\u001b[0m\n\u001b[0m\u001b[1;32m     57\u001b[0m         \u001b[0mprint\u001b[0m\u001b[0;34m(\u001b[0m\u001b[0;34m\"rr=%f\"\u001b[0m \u001b[0;34m%\u001b[0m\u001b[0;34m(\u001b[0m\u001b[0mrr\u001b[0m\u001b[0;34m//\u001b[0m\u001b[0;36m10000000000000\u001b[0m\u001b[0;34m)\u001b[0m\u001b[0;34m)\u001b[0m\u001b[0;34m\u001b[0m\u001b[0;34m\u001b[0m\u001b[0m\n",
      "\u001b[0;32m~/git/2019NTUcourse/Fintech/HW3/rrEstimateOpen.py\u001b[0m in \u001b[0;36mcomputeReturnRate\u001b[0;34m(priceMat, transFeeRate, actionMat)\u001b[0m\n\u001b[1;32m     67\u001b[0m         \u001b[0mtotal\u001b[0m \u001b[0;34m=\u001b[0m \u001b[0mcapital\u001b[0m\u001b[0;34m\u001b[0m\u001b[0;34m\u001b[0m\u001b[0m\n\u001b[1;32m     68\u001b[0m         \u001b[0;32mfor\u001b[0m \u001b[0mstock\u001b[0m \u001b[0;32min\u001b[0m \u001b[0mrange\u001b[0m\u001b[0;34m(\u001b[0m\u001b[0mstockCount\u001b[0m\u001b[0;34m)\u001b[0m \u001b[0;34m:\u001b[0m\u001b[0;34m\u001b[0m\u001b[0;34m\u001b[0m\u001b[0m\n\u001b[0;32m---> 69\u001b[0;31m                 \u001b[0mcurrentPriceVec\u001b[0m \u001b[0;34m=\u001b[0m \u001b[0mpriceMat\u001b[0m\u001b[0;34m[\u001b[0m \u001b[0mactionMat\u001b[0m\u001b[0;34m[\u001b[0m\u001b[0;34m-\u001b[0m\u001b[0;36m1\u001b[0m\u001b[0;34m]\u001b[0m\u001b[0;34m[\u001b[0m\u001b[0;36m0\u001b[0m\u001b[0;34m]\u001b[0m \u001b[0;34m]\u001b[0m\u001b[0;34m\u001b[0m\u001b[0;34m\u001b[0m\u001b[0m\n\u001b[0m\u001b[1;32m     70\u001b[0m                 \u001b[0mprint\u001b[0m\u001b[0;34m(\u001b[0m\u001b[0mstockHolding\u001b[0m\u001b[0;34m[\u001b[0m\u001b[0;34m-\u001b[0m\u001b[0;36m1\u001b[0m\u001b[0;34m]\u001b[0m\u001b[0;34m[\u001b[0m\u001b[0mstock\u001b[0m\u001b[0;34m]\u001b[0m\u001b[0;34m)\u001b[0m\u001b[0;34m\u001b[0m\u001b[0;34m\u001b[0m\u001b[0m\n\u001b[1;32m     71\u001b[0m                 \u001b[0mtotal\u001b[0m \u001b[0;34m+=\u001b[0m \u001b[0mstockHolding\u001b[0m\u001b[0;34m[\u001b[0m\u001b[0;34m-\u001b[0m\u001b[0;36m1\u001b[0m\u001b[0;34m]\u001b[0m\u001b[0;34m[\u001b[0m\u001b[0mstock\u001b[0m\u001b[0;34m]\u001b[0m \u001b[0;34m*\u001b[0m \u001b[0mcurrentPriceVec\u001b[0m\u001b[0;34m[\u001b[0m\u001b[0mstock\u001b[0m\u001b[0;34m]\u001b[0m\u001b[0;34m*\u001b[0m\u001b[0;34m(\u001b[0m\u001b[0;36m1\u001b[0m\u001b[0;34m-\u001b[0m\u001b[0mtransFeeRate\u001b[0m\u001b[0;34m)\u001b[0m      \u001b[0;31m# Total asset, including stock holding and cash\u001b[0m\u001b[0;34m\u001b[0m\u001b[0;34m\u001b[0m\u001b[0m\n",
      "\u001b[0;31mIndexError\u001b[0m: list index out of range"
     ]
    }
   ],
   "source": [
    "import numpy as np\n",
    "\n",
    "def myOptimAction(priceMat, transFeeRate):\n",
    "    # Explanation of my approach:\n",
    "    # Using DP to find the optimal solution\n",
    "    # Def: stockMaxHolding[day][stock] = max(stockMaxHolding[day - 1][stock] \n",
    "    #                                     ,cash[day-1]*(1 - transFeeRate)/priceMat[day][stock])\n",
    "    #      Maxcash[day] = max(for stock in range(stockCount):\n",
    "    #                           stockMaxHolding[day-1][stock]*(1 - transFeeRate)*priceMat[day][stock]),\n",
    "    #                       , Maxcash[day - 1])\n",
    "    hold = 0\n",
    "    nextDay = 1\n",
    "    dataLen, stockCount = priceMat.shape  # day size & stock count   \n",
    "    print(priceMat.shape)\n",
    "    cashMax = np.zeros(dataLen)\n",
    "    cash = 1000\n",
    "    cashMax[0] = 1000\n",
    "    stockMaxHolding = np.zeros((dataLen,stockCount))  # Mat of stock holdings\n",
    "\n",
    "    actionMat = []  # An k-by-4 action matrix which holds k transaction records.\n",
    "    # user definition\n",
    "    keep = -1\n",
    "    for day in range(dataLen - nextDay):\n",
    "        dayPrices = priceMat[day]  # Today price of each stock\n",
    "        action = []\n",
    "        hold = -1\n",
    "        past_hold = -1\n",
    "        if day > 0:\n",
    "            cash_best = cashMax[day-1]\n",
    "            hold = -1\n",
    "            for stock in range(stockCount):\n",
    "                if cash_best < stockMaxHolding[day-1][stock]*(1 - transFeeRate)*priceMat[day][stock]:\n",
    "                    cash_best = stockMaxHolding[day-1][stock]*(1 - transFeeRate)*priceMat[day][stock]\n",
    "                    hold = stock\n",
    "            cashMax[day] = cash_best    \n",
    "            for stock in range(stockCount):   \n",
    "                if stockMaxHolding[day - 1][stock] < cashMax[day]*(1 - transFeeRate)/priceMat[day][stock]:\n",
    "                    stockMaxHolding[day][stock] = cashMax[day]*(1 - transFeeRate)/priceMat[day][stock]\n",
    "                else:\n",
    "                    stockMaxHolding[day][stock] = stockMaxHolding[day - 1][stock]\n",
    "            \n",
    "            if past_hold != hold:\n",
    "                trans_day = 0\n",
    "                for i in range(day, -1, -1):\n",
    "                        if stockMaxHolding[i][hold] != stockMaxHolding[day][hold]:\n",
    "                            trans_day = i + 1\n",
    "                            break\n",
    "                if past_hold == -1:#buy action\n",
    "                    past_hold = hold\n",
    "                elif hold == -1:#sell action\n",
    "                    past_hold = -1\n",
    "                else:# sell and buy action\n",
    "                    past_hold = hold\n",
    "    print(cashMax[-2])\n",
    "    return actionMat\n",
    "\n",
    "import sys\n",
    "import numpy as np\n",
    "import pandas as pd\n",
    "# Compute return rate over a given price Matrix & action Matrix\n",
    "from rrEstimateOpen import computeReturnRate\n",
    "if __name__ == \"__main__\":\n",
    "\tfile = \"priceMat.txt\"\t  # input file\n",
    "\tdf = pd.read_csv(file, delimiter=' ')\n",
    "\ttransFeeRate= 0.01\t# Rate for transaction fee\n",
    "\tpriceMat = df.values\t# Get price as the m×n matrix which holds n stocks' price over m days\n",
    "\tactionMat = myOptimAction(priceMat, transFeeRate)\t# Obtain the suggested action\n",
    "\trr = computeReturnRate(priceMat, transFeeRate, actionMat)  # Compute return rate\n",
    "\tprint(\"rr=%f\" %(rr//10000000000000))"
   ]
  },
  {
   "cell_type": "code",
   "execution_count": null,
   "metadata": {},
   "outputs": [],
   "source": []
  },
  {
   "cell_type": "code",
   "execution_count": null,
   "metadata": {},
   "outputs": [],
   "source": []
  }
 ],
 "metadata": {
  "kernelspec": {
   "display_name": "Python 3",
   "language": "python",
   "name": "python3"
  },
  "language_info": {
   "codemirror_mode": {
    "name": "ipython",
    "version": 3
   },
   "file_extension": ".py",
   "mimetype": "text/x-python",
   "name": "python",
   "nbconvert_exporter": "python",
   "pygments_lexer": "ipython3",
   "version": "3.6.8"
  }
 },
 "nbformat": 4,
 "nbformat_minor": 2
}
