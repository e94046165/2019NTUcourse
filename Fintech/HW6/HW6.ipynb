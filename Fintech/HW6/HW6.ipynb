{
 "cells": [
  {
   "cell_type": "code",
   "execution_count": 1,
   "metadata": {},
   "outputs": [
    {
     "name": "stdout",
     "output_type": "stream",
     "text": [
      "x = 0xe493dbf1c10d80f3581e4904930b1404cc6c13900ee0758474fa94abe8c4cd13\n",
      "y = 0x51ed993ea0d455b75642e2098ea51448d967ae33bfbdfe40cfe97bdc47739922\n"
     ]
    }
   ],
   "source": [
    "import numpy as np\n",
    "from pycoin.ecdsa.secp256k1 import secp256k1_generator as G\n",
    "# 學號：r08922143\n",
    "d = 922143\n",
    "\n",
    "#1. 4G\n",
    "print('x =', hex((4*G)[0]))\n",
    "print('y =', hex((4*G)[1]))"
   ]
  },
  {
   "cell_type": "code",
   "execution_count": 2,
   "metadata": {},
   "outputs": [
    {
     "name": "stdout",
     "output_type": "stream",
     "text": [
      "x = 0x2f8bde4d1a07209355b4a7250a5c5128e88b84bddc619ab7cba8d569b240efe4\n",
      "y = 0xd8ac222636e5e3d6d4dba9dda6c9c426f788271bab0d6840dca87d3aa6ac62d6\n"
     ]
    }
   ],
   "source": [
    "#2. 5G\n",
    "print('x =',hex((5*G)[0]))\n",
    "print('y =',hex((5*G)[1]))"
   ]
  },
  {
   "cell_type": "code",
   "execution_count": 3,
   "metadata": {},
   "outputs": [
    {
     "name": "stdout",
     "output_type": "stream",
     "text": [
      "x = 0xb71fac68ede0a3c36e1e77e25a84f528f18ba58c873d1c52b5c38cf41f9b2068\n",
      "y = 0x9304b6f2bf975d584f3b1a478f0c530f3d617ee8b8d911ba5879911a30671ef3\n"
     ]
    }
   ],
   "source": [
    "#3. dG = 922143*G\n",
    "print('x =',hex((d*G)[0]))\n",
    "print('y =',hex((d*G)[1]))"
   ]
  },
  {
   "cell_type": "code",
   "execution_count": 4,
   "metadata": {},
   "outputs": [
    {
     "name": "stdout",
     "output_type": "stream",
     "text": [
      "bin = 11100001001000011111\n",
      "add = 9 ,double = 19\n",
      "operation = DADADDDDDADDDADDDDDADADADADA\n",
      "dG = 922143 G\n"
     ]
    }
   ],
   "source": [
    "#4. double and add\n",
    "def double_and_add(d):\n",
    "    d_copy = str(bin(d))[2:]\n",
    "    print('bin =', d_copy)\n",
    "    add = double = 0\n",
    "    tmp = []\n",
    "    for i in d_copy[1:]:# 因為一開始的 initail setting G = 1G，所以可忽略 leftmost bit 的 1\n",
    "        # 每一輪都先執行一次 Double (不論該 bit 為 0 or 1)\n",
    "        tmp.append('D')\n",
    "        double += 1\n",
    "        # 當該 bit == '1' 時需執行 Add\n",
    "        if i == '1':\n",
    "            add += 1\n",
    "            tmp.append('A')\n",
    "    print('add =', add,',double =', double)\n",
    "    print('operation = ', end = '')\n",
    "    for i in tmp:\n",
    "        print(i, end = '')\n",
    "    # 由紀錄下來的 operation 執行 double and add, verify 是否能得到 d*G = 922143*G\n",
    "    P = 1\n",
    "    for i in tmp:\n",
    "        if i == 'D':\n",
    "            P *= 2\n",
    "        else:\n",
    "            P += 1\n",
    "    print()\n",
    "    print('dG =', P, 'G')\n",
    "double_and_add(d)"
   ]
  },
  {
   "cell_type": "code",
   "execution_count": 5,
   "metadata": {},
   "outputs": [
    {
     "name": "stdout",
     "output_type": "stream",
     "text": [
      "bin = 11100001001000011111\n",
      "add = 3 sub = 4 ,double = 20\n",
      "operation = DDDSDDDDADSDDADSDDDDADDDDDS\n",
      "dG = 922143 G\n"
     ]
    }
   ],
   "source": [
    "#5. calculate d*G faster\n",
    "def fast_calculate(d):    \n",
    "    d_copy = str(bin(d))[2:]\n",
    "    print('bin =', d_copy)\n",
    "\n",
    "    # initail\n",
    "    count = add = substract = double = 0\n",
    "    tmp = []\n",
    "    d_copy = d_copy + '0'\n",
    "\n",
    "    for i in range(len(d_copy) - 1 ):\n",
    "        double += 1\n",
    "        tmp.append('D')\n",
    "        if d_copy[i] == '0' and d_copy[i+1] == '1':\n",
    "            add += 1\n",
    "            tmp.append('A')    \n",
    "        elif d_copy[i] == '1' and d_copy[i+1] == '0':\n",
    "            substract += 1\n",
    "            tmp.append('S')\n",
    "\n",
    "    print('add =', add, 'sub =', substract, ',double =', double)\n",
    "    print('operation = ', end = '')\n",
    "    \n",
    "    # 由紀錄下來的 operation 執行 double, add and sub, verify 是否能得到 d*G = 922143*G\n",
    "    P = 1\n",
    "    for i in tmp:\n",
    "        print(i, end = '')\n",
    "    for i in tmp:\n",
    "        if i == 'D':\n",
    "            P *= 2\n",
    "        elif i == 'S':\n",
    "            P -= 1\n",
    "        else:\n",
    "            P += 1\n",
    "    print()\n",
    "    print('dG =', P, 'G')\n",
    "fast_calculate(d)"
   ]
  },
  {
   "cell_type": "code",
   "execution_count": 6,
   "metadata": {},
   "outputs": [
    {
     "name": "stdout",
     "output_type": "stream",
     "text": [
      "bin = 101010101010101010101010101\n",
      "add = 13 ,double = 26\n",
      "operation = DDADDADDADDADDADDADDADDADDADDADDADDADDA\n",
      "dG = 89478485 G\n",
      "\n",
      "bin = 101010101010101010101010101\n",
      "add = 13 sub = 14 ,double = 27\n",
      "operation = DSDADSDADSDADSDADSDADSDADSDADSDADSDADSDADSDADSDADSDADS\n",
      "dG = 89478485 G\n"
     ]
    }
   ],
   "source": [
    "d = 0b101010101010101010101010101\n",
    "double_and_add(d)\n",
    "print()\n",
    "fast_calculate(d)"
   ]
  },
  {
   "cell_type": "code",
   "execution_count": 7,
   "metadata": {},
   "outputs": [
    {
     "name": "stdout",
     "output_type": "stream",
     "text": [
      "r = 53957576663012291606402345341061437133522758407718089353314528343643821967563\n",
      "s = 51906834270687022186548425400953631721788548210013169172744691584223263866934\n"
     ]
    }
   ],
   "source": [
    "#6. Sign the transaction with a random number k and your private key d. (The steps base on ppt p.28)\n",
    "import math \n",
    "def exgcd(a, b):\n",
    "    if a == 0:\n",
    "        return (b, 0, 1)\n",
    "    else:\n",
    "        g, y, x = exgcd(b % a, a)\n",
    "        return (g, x - (b // a) * y, y)\n",
    "\n",
    "def modinv(a, m):\n",
    "    g, x, y = exgcd(a, m)\n",
    "    if g == 1:\n",
    "        return x % m\n",
    "    else:\n",
    "        return 0\n",
    "    \n",
    "# Step1. e = hash of a bitcoin transaction \n",
    "hash_bitcoin = 0x944346117fd3db10db97935ded1fce00d1dca4e8e4349e757a7827ae5237d991\n",
    "\n",
    "# Step2. z = Ln leftmost bits of e, where Ln is the length of the group order n\n",
    "n = G.order()\n",
    "Ln = len(str(bin(n)))\n",
    "z = int(str(bin(hash_bitcoin))[2:Ln+2], 2)\n",
    "\n",
    "# Step3. Select a random k in [1, n-1]\n",
    "k = 11\n",
    "\n",
    "# Step4. (x1, y1) = k*G\n",
    "x1, y1 = k*G\n",
    "\n",
    "# Step5. r = x1 mod n. If r = 0, goto Step3.\n",
    "r = x1%n\n",
    "if r == 0:\n",
    "    print('plz choose another k')\n",
    "\n",
    "# Step6. s = ( k^-1 * (z + r*d) ) mod n. If s = 0, goto Step3.\n",
    "k_inv = modinv(k, n)\n",
    "s = (k_inv * (z + r*d)) % n\n",
    "if s == 0:\n",
    "    print('plz choose another k')\n",
    "    \n",
    "# Step7. signature is (r, s)\n",
    "print('r =', r)\n",
    "print('s =', s)"
   ]
  },
  {
   "cell_type": "code",
   "execution_count": 8,
   "metadata": {},
   "outputs": [
    {
     "name": "stdout",
     "output_type": "stream",
     "text": [
      "The signature is valid!\n"
     ]
    }
   ],
   "source": [
    "#7. Verify the digital signature with your public key Q\n",
    "Q = d*G\n",
    "\n",
    "#Step1. check if r and s are in [1, n-1]\n",
    "if r < 1 or s < 1 or r > n-1 or s > n-1:\n",
    "    print('The signature is invalid, please check again!') \n",
    "\n",
    "#Step2,3 calculate e and z again, like what we do in signing the transaction.\n",
    "#Step4. calculate w = s^-1 mod n\n",
    "w = modinv(s, n)\n",
    "\n",
    "#Step5. calcualte (u1, u2) = (zw mod n, rw mod n)\n",
    "u1 = z*w % n\n",
    "u2 = r*w % n\n",
    "\n",
    "#Step6. calculate (x2, y2) = u1*G + u2*Q\n",
    "x2, y2 = u1*G + u2*Q\n",
    "\n",
    "#Step7. check if (x1, y1) = (x2, y2)\n",
    "if (x1 == x2 and y1 == y2):\n",
    "    print('The signature is valid!')\n",
    "else:\n",
    "    print('The signature is invalid, please check again!')"
   ]
  }
 ],
 "metadata": {
  "kernelspec": {
   "display_name": "Python 3",
   "language": "python",
   "name": "python3"
  },
  "language_info": {
   "codemirror_mode": {
    "name": "ipython",
    "version": 3
   },
   "file_extension": ".py",
   "mimetype": "text/x-python",
   "name": "python",
   "nbconvert_exporter": "python",
   "pygments_lexer": "ipython3",
   "version": "3.6.8"
  }
 },
 "nbformat": 4,
 "nbformat_minor": 2
}
