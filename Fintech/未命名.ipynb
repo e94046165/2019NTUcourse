{
 "cells": [
  {
   "cell_type": "code",
   "execution_count": 1,
   "metadata": {},
   "outputs": [
    {
     "name": "stdout",
     "output_type": "stream",
     "text": [
      "['10687', '10715', '10652', '10671']\n"
     ]
    }
   ],
   "source": [
    "flag = 0\n",
    "with open(sys.argv[1], newline='', encoding='BIG5') as f:\n",
    "    reader = csv.reader(f)\n",
    "    due_month = 202000\n",
    "    for row in reader:\n",
    "        if str(row[1]) == \"TX     \" and int(row[3]) >= 84500 and int(row[3]) <= 134500 and '/' not in row[2] and int(row[2]) <= due_month:\n",
    "            if int(row[2]) < due_month:\n",
    "                due_month = int(row[2])\n",
    "                OHLC = [row[4],row[4],row[4],row[4]]\n",
    "                flag = 1\n",
    "            else:\n",
    "                if row[4] > OHLC[1]:\n",
    "                    OHLC[1] = row[4]\n",
    "                if row[4] < OHLC[2]:\n",
    "                    OHLC[2] = row[4]\n",
    "                OHLC[3] = row[4]\n",
    "        elif: str(row[1]) != \"TX     \" and flag == 1:\n",
    "            print(OHLC[0], OHLC[1], OHLC[2], OHLC[3])\n",
    "            return \n",
    "print(OHLC[0], OHLC[1], OHLC[2], OHLC[3])"
   ]
  }
 ],
 "metadata": {
  "kernelspec": {
   "display_name": "Python 3",
   "language": "python",
   "name": "python3"
  },
  "language_info": {
   "codemirror_mode": {
    "name": "ipython",
    "version": 3
   },
   "file_extension": ".py",
   "mimetype": "text/x-python",
   "name": "python",
   "nbconvert_exporter": "python",
   "pygments_lexer": "ipython3",
   "version": "3.7.1"
  }
 },
 "nbformat": 4,
 "nbformat_minor": 2
}
